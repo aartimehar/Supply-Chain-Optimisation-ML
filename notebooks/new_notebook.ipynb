{
 "cells": [
  {
   "cell_type": "code",
   "execution_count": 1,
   "id": "fe051476",
   "metadata": {},
   "outputs": [
    {
     "name": "stdout",
     "output_type": "stream",
     "text": [
      "['datum,M01AB,M01AE,N02BA,N02BE,N05B,N05C,R03,R06']\n"
     ]
    }
   ],
   "source": [
    "import pandas as pd\n",
    "\n",
    "df = pd.read_csv(\"../data/salesweekly.csv\")\n",
    "print(df.columns.tolist())\n"
   ]
  },
  {
   "cell_type": "code",
   "execution_count": 6,
   "id": "629eb54d",
   "metadata": {},
   "outputs": [
    {
     "name": "stderr",
     "output_type": "stream",
     "text": [
      "c:\\Users\\aarti\\Documents\\Supply Chain Optimisation ML\\.venv\\Lib\\site-packages\\tqdm\\auto.py:21: TqdmWarning: IProgress not found. Please update jupyter and ipywidgets. See https://ipywidgets.readthedocs.io/en/stable/user_install.html\n",
      "  from .autonotebook import tqdm as notebook_tqdm\n",
      "Importing plotly failed. Interactive plots will not work.\n"
     ]
    }
   ],
   "source": [
    "import pandas as pd\n",
    "import matplotlib.pyplot as plt\n",
    "from prophet import Prophet\n",
    "import sys, os\n",
    "\n",
    "# Add project root to path (so it can find your src folder)\n",
    "sys.path.append(os.path.abspath(\"..\"))\n",
    "\n",
    "from src.data_processing import load_sales_data\n",
    "\n",
    "# Optional: suppress warnings\n",
    "import warnings\n",
    "warnings.filterwarnings(\"ignore\")\n"
   ]
  },
  {
   "cell_type": "code",
   "execution_count": 5,
   "id": "7e924ffc",
   "metadata": {},
   "outputs": [
    {
     "name": "stdout",
     "output_type": "stream",
     "text": [
      "  datum,M01AB,M01AE,N02BA,N02BE,N05B,N05C,R03,R06\n",
      "0         1/5/2014,14,11.67,21.3,185.95,41,0,32,7\n",
      "1    1/12/2014,29.33,12.68,37.9,190.7,88,5,21,7.2\n",
      "2     1/19/2014,30.67,26.34,45.9,218.4,80,8,29,12\n",
      "3        1/26/2014,34,32.37,31.5,179.6,80,8,23,10\n",
      "4    2/2/2014,31.02,23.35,20.7,159.88,84,12,29,12\n"
     ]
    }
   ],
   "source": [
    "# Use the already loaded dataframe 'df'\n",
    "print(df.head())\n"
   ]
  }
 ],
 "metadata": {
  "kernelspec": {
   "display_name": ".venv",
   "language": "python",
   "name": "python3"
  },
  "language_info": {
   "codemirror_mode": {
    "name": "ipython",
    "version": 3
   },
   "file_extension": ".py",
   "mimetype": "text/x-python",
   "name": "python",
   "nbconvert_exporter": "python",
   "pygments_lexer": "ipython3",
   "version": "3.11.9"
  }
 },
 "nbformat": 4,
 "nbformat_minor": 5
}
