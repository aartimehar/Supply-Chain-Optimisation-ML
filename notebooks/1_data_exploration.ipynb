{
 "cells": [
  {
   "cell_type": "code",
   "execution_count": null,
   "id": "88271f2b",
   "metadata": {
    "vscode": {
     "languageId": "plaintext"
    }
   },
   "outputs": [],
   "source": [
    "# Import functions\n",
    "from src.data_processing import load_sales_data, load_fda_shortages, load_synthetic_biomanufacturing, merge_datasets\n",
    "\n",
    "# Load datasets\n",
    "sales_df = load_sales_data(\"../Data/salesweekly.csv\")\n",
    "shortages_df = load_fda_shortages(\"../Data/fda_shortages.csv\")\n",
    "bio_df = load_synthetic_biomanufacturing(\"../Data/synthetic_biomanufacturing.csv\")\n",
    "\n",
    "# Merge datasets\n",
    "merged_df = merge_datasets(sales_df, shortages_df, bio_df)\n",
    "\n",
    "# Quick exploration\n",
    "print(\"Merged Data Shape:\", merged_df.shape)\n",
    "merged_df.head()\n"
   ]
  },
  {
   "cell_type": "code",
   "execution_count": null,
   "id": "edb8697d",
   "metadata": {
    "vscode": {
     "languageId": "plaintext"
    }
   },
   "outputs": [],
   "source": []
  }
 ],
 "metadata": {
  "language_info": {
   "name": "python"
  }
 },
 "nbformat": 4,
 "nbformat_minor": 5
}
