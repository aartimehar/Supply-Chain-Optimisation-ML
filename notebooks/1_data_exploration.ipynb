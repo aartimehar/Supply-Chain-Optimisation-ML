{
 "cells": [
  {
   "cell_type": "code",
   "execution_count": 7,
   "id": "edb8697d",
   "metadata": {},
   "outputs": [
    {
     "name": "stdout",
     "output_type": "stream",
     "text": [
      "c:\\Users\\aarti\\Documents\\Supply Chain Optimisation ML\n"
     ]
    }
   ],
   "source": [
    "import sys\n",
    "import os\n",
    "\n",
    "# Add project root to the system path\n",
    "sys.path.append(os.path.abspath(\"..\"))\n",
    "\n",
    "from src.data_processing import (\n",
    "    load_sales_data,\n",
    "    load_fda_shortages,\n",
    "    load_synthetic_biomanufacturing,\n",
    "    merge_datasets\n",
    ")\n",
    "print(sys.path[-1])\n",
    "\n"
   ]
  }
 ],
 "metadata": {
  "kernelspec": {
   "display_name": ".venv",
   "language": "python",
   "name": "python3"
  },
  "language_info": {
   "codemirror_mode": {
    "name": "ipython",
    "version": 3
   },
   "file_extension": ".py",
   "mimetype": "text/x-python",
   "name": "python",
   "nbconvert_exporter": "python",
   "pygments_lexer": "ipython3",
   "version": "3.11.9"
  }
 },
 "nbformat": 4,
 "nbformat_minor": 5
}
