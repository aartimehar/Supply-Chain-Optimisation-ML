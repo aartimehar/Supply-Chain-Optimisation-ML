{
 "cells": [
  {
   "cell_type": "code",
   "execution_count": 2,
   "id": "fe8290b9",
   "metadata": {},
   "outputs": [
    {
     "name": "stderr",
     "output_type": "stream",
     "text": [
      "2025-10-04 21:09:57.853 Thread 'MainThread': missing ScriptRunContext! This warning can be ignored when running in bare mode.\n",
      "2025-10-04 21:09:57.854 Thread 'MainThread': missing ScriptRunContext! This warning can be ignored when running in bare mode.\n",
      "2025-10-04 21:09:57.856 Thread 'MainThread': missing ScriptRunContext! This warning can be ignored when running in bare mode.\n",
      "2025-10-04 21:09:57.857 Thread 'MainThread': missing ScriptRunContext! This warning can be ignored when running in bare mode.\n",
      "2025-10-04 21:09:57.859 Thread 'MainThread': missing ScriptRunContext! This warning can be ignored when running in bare mode.\n",
      "2025-10-04 21:09:57.860 Thread 'MainThread': missing ScriptRunContext! This warning can be ignored when running in bare mode.\n",
      "2025-10-04 21:09:57.861 Thread 'MainThread': missing ScriptRunContext! This warning can be ignored when running in bare mode.\n",
      "2025-10-04 21:09:57.864 Thread 'MainThread': missing ScriptRunContext! This warning can be ignored when running in bare mode.\n",
      "2025-10-04 21:09:57.865 Thread 'MainThread': missing ScriptRunContext! This warning can be ignored when running in bare mode.\n",
      "2025-10-04 21:09:57.867 Thread 'MainThread': missing ScriptRunContext! This warning can be ignored when running in bare mode.\n",
      "2025-10-04 21:09:57.869 Thread 'MainThread': missing ScriptRunContext! This warning can be ignored when running in bare mode.\n",
      "2025-10-04 21:09:57.871 Thread 'MainThread': missing ScriptRunContext! This warning can be ignored when running in bare mode.\n",
      "2025-10-04 21:09:57.873 Thread 'MainThread': missing ScriptRunContext! This warning can be ignored when running in bare mode.\n",
      "C:\\Users\\aarti\\AppData\\Local\\Temp\\ipykernel_23916\\4276170254.py:21: FutureWarning: 'M' is deprecated and will be removed in a future version, please use 'ME' instead.\n",
      "  \"date\": pd.date_range(start=\"2024-01-01\", periods=12, freq=\"M\").tolist() * 3,\n",
      "2025-10-04 21:09:57.879 Thread 'MainThread': missing ScriptRunContext! This warning can be ignored when running in bare mode.\n",
      "2025-10-04 21:09:57.880 Thread 'MainThread': missing ScriptRunContext! This warning can be ignored when running in bare mode.\n",
      "2025-10-04 21:09:57.881 Thread 'MainThread': missing ScriptRunContext! This warning can be ignored when running in bare mode.\n",
      "2025-10-04 21:09:57.883 Thread 'MainThread': missing ScriptRunContext! This warning can be ignored when running in bare mode.\n",
      "2025-10-04 21:09:57.885 Thread 'MainThread': missing ScriptRunContext! This warning can be ignored when running in bare mode.\n",
      "2025-10-04 21:09:57.886 Thread 'MainThread': missing ScriptRunContext! This warning can be ignored when running in bare mode.\n",
      "2025-10-04 21:09:57.889 Thread 'MainThread': missing ScriptRunContext! This warning can be ignored when running in bare mode.\n",
      "2025-10-04 21:09:57.891 Thread 'MainThread': missing ScriptRunContext! This warning can be ignored when running in bare mode.\n",
      "2025-10-04 21:09:57.893 Thread 'MainThread': missing ScriptRunContext! This warning can be ignored when running in bare mode.\n",
      "2025-10-04 21:09:57.895 Thread 'MainThread': missing ScriptRunContext! This warning can be ignored when running in bare mode.\n",
      "2025-10-04 21:09:57.897 Thread 'MainThread': missing ScriptRunContext! This warning can be ignored when running in bare mode.\n",
      "2025-10-04 21:09:57.899 Thread 'MainThread': missing ScriptRunContext! This warning can be ignored when running in bare mode.\n",
      "2025-10-04 21:09:57.900 Thread 'MainThread': missing ScriptRunContext! This warning can be ignored when running in bare mode.\n",
      "2025-10-04 21:09:57.901 Thread 'MainThread': missing ScriptRunContext! This warning can be ignored when running in bare mode.\n",
      "2025-10-04 21:09:57.904 Thread 'MainThread': missing ScriptRunContext! This warning can be ignored when running in bare mode.\n",
      "2025-10-04 21:09:57.905 Thread 'MainThread': missing ScriptRunContext! This warning can be ignored when running in bare mode.\n"
     ]
    },
    {
     "name": "stderr",
     "output_type": "stream",
     "text": [
      "2025-10-04 21:09:58.150 Thread 'MainThread': missing ScriptRunContext! This warning can be ignored when running in bare mode.\n",
      "2025-10-04 21:09:58.151 Thread 'MainThread': missing ScriptRunContext! This warning can be ignored when running in bare mode.\n",
      "2025-10-04 21:09:58.153 Thread 'MainThread': missing ScriptRunContext! This warning can be ignored when running in bare mode.\n",
      "2025-10-04 21:09:58.154 Thread 'MainThread': missing ScriptRunContext! This warning can be ignored when running in bare mode.\n",
      "2025-10-04 21:09:58.156 Thread 'MainThread': missing ScriptRunContext! This warning can be ignored when running in bare mode.\n",
      "2025-10-04 21:09:58.157 Thread 'MainThread': missing ScriptRunContext! This warning can be ignored when running in bare mode.\n",
      "2025-10-04 21:09:58.158 Thread 'MainThread': missing ScriptRunContext! This warning can be ignored when running in bare mode.\n",
      "2025-10-04 21:09:58.161 Thread 'MainThread': missing ScriptRunContext! This warning can be ignored when running in bare mode.\n",
      "2025-10-04 21:09:59.533 Thread 'MainThread': missing ScriptRunContext! This warning can be ignored when running in bare mode.\n",
      "2025-10-04 21:09:59.608 Thread 'MainThread': missing ScriptRunContext! This warning can be ignored when running in bare mode.\n",
      "2025-10-04 21:09:59.610 Thread 'MainThread': missing ScriptRunContext! This warning can be ignored when running in bare mode.\n",
      "2025-10-04 21:09:59.611 Thread 'MainThread': missing ScriptRunContext! This warning can be ignored when running in bare mode.\n",
      "2025-10-04 21:09:59.613 Thread 'MainThread': missing ScriptRunContext! This warning can be ignored when running in bare mode.\n",
      "2025-10-04 21:09:59.615 Thread 'MainThread': missing ScriptRunContext! This warning can be ignored when running in bare mode.\n",
      "2025-10-04 21:09:59.616 Thread 'MainThread': missing ScriptRunContext! This warning can be ignored when running in bare mode.\n",
      "2025-10-04 21:09:59.683 Thread 'MainThread': missing ScriptRunContext! This warning can be ignored when running in bare mode.\n",
      "2025-10-04 21:09:59.684 Thread 'MainThread': missing ScriptRunContext! This warning can be ignored when running in bare mode.\n",
      "2025-10-04 21:09:59.686 Thread 'MainThread': missing ScriptRunContext! This warning can be ignored when running in bare mode.\n",
      "2025-10-04 21:09:59.688 Thread 'MainThread': missing ScriptRunContext! This warning can be ignored when running in bare mode.\n",
      "2025-10-04 21:09:59.689 Thread 'MainThread': missing ScriptRunContext! This warning can be ignored when running in bare mode.\n",
      "2025-10-04 21:09:59.691 Thread 'MainThread': missing ScriptRunContext! This warning can be ignored when running in bare mode.\n",
      "2025-10-04 21:09:59.693 Thread 'MainThread': missing ScriptRunContext! This warning can be ignored when running in bare mode.\n",
      "2025-10-04 21:09:59.694 Thread 'MainThread': missing ScriptRunContext! This warning can be ignored when running in bare mode.\n"
     ]
    },
    {
     "data": {
      "text/plain": [
       "DeltaGenerator()"
      ]
     },
     "execution_count": 2,
     "metadata": {},
     "output_type": "execute_result"
    }
   ],
   "source": [
    "import streamlit as st\n",
    "import pandas as pd\n",
    "import plotly.express as px\n",
    "\n",
    "st.set_page_config(page_title=\"Biotech Supply Chain Optimization Dashboard\", layout=\"wide\")\n",
    "\n",
    "st.title(\"📦 Biotech Supply Chain Optimization Dashboard\")\n",
    "\n",
    "# Sidebar\n",
    "st.sidebar.header(\"Filters\")\n",
    "product_filter = st.sidebar.multiselect(\"Select Product(s):\", [\"Biologic A\", \"Biologic B\", \"Small Molecule C\"])\n",
    "\n",
    "import os\n",
    "\n",
    "# Example: Load your data\n",
    "if os.path.exists(\"your_cleaned_sales_data.csv\"):\n",
    "    sales_data = pd.read_csv(\"your_cleaned_sales_data.csv\")\n",
    "else:\n",
    "    # Create a sample DataFrame if file does not exist\n",
    "    sales_data = pd.DataFrame({\n",
    "        \"date\": pd.date_range(start=\"2024-01-01\", periods=12, freq=\"M\").tolist() * 3,\n",
    "        \"product_name\": [\"Biologic A\"] * 12 + [\"Biologic B\"] * 12 + [\"Small Molecule C\"] * 12,\n",
    "        \"forecast_demand\": [100, 120, 110, 130, 140, 150, 160, 170, 180, 190, 200, 210] * 3,\n",
    "        \"actual_demand\": [95, 115, 108, 125, 138, 148, 158, 168, 175, 185, 195, 205] * 3,\n",
    "        \"month\": [f\"2024-{str(i).zfill(2)}\" for i in range(1, 13)] * 3,\n",
    "        \"stockout_risk\": [0.1, 0.15, 0.12, 0.09, 0.08, 0.07, 0.06, 0.05, 0.04, 0.03, 0.02, 0.01] * 3,\n",
    "        \"cost_savings\": [10000, 12000, 11000, 13000, 14000, 15000, 16000, 17000, 18000, 19000, 20000, 21000] * 3\n",
    "    })\n",
    "\n",
    "if product_filter:\n",
    "    sales_data = sales_data[sales_data['product_name'].isin(product_filter)]\n",
    "\n",
    "# KPIs\n",
    "col1, col2, col3 = st.columns(3)\n",
    "col1.metric(\"Average Forecast Accuracy\", \"93.5%\")\n",
    "col2.metric(\"Stockout Risk Reduced\", \"27%\")\n",
    "col3.metric(\"Cost Savings Achieved\", \"$1.2M\")\n",
    "\n",
    "# Forecast plot\n",
    "st.subheader(\"📈 Forecasted vs Actual Demand\")\n",
    "fig1 = px.line(sales_data, x=\"date\", y=[\"forecast_demand\", \"actual_demand\"], color=\"product_name\",\n",
    "               title=\"Forecasted vs Actual Demand by Product\")\n",
    "st.plotly_chart(fig1, use_container_width=True)\n",
    "\n",
    "# Stockout heatmap\n",
    "st.subheader(\"🔥 Stockout Risk by Product & Month\")\n",
    "risk_pivot = sales_data.pivot_table(index=\"product_name\", columns=\"month\", values=\"stockout_risk\")\n",
    "st.dataframe(risk_pivot.style.background_gradient(cmap=\"Reds\"))\n",
    "\n",
    "# Cost optimization\n",
    "st.subheader(\"💰 Cost Optimization Impact\")\n",
    "fig2 = px.bar(sales_data, x=\"product_name\", y=\"cost_savings\", color=\"product_name\", title=\"Cost Savings by Product\")\n",
    "st.plotly_chart(fig2, use_container_width=True)\n",
    "\n",
    "st.caption(\"Data Source: Synthetic Biomanufacturing Data + FDA Shortage Database + Kaggle Pharma Sales\")\n"
   ]
  },
  {
   "cell_type": "code",
   "execution_count": 3,
   "id": "8fc22c72",
   "metadata": {},
   "outputs": [
    {
     "name": "stdout",
     "output_type": "stream",
     "text": [
      "Requirement already satisfied: streamlit in c:\\users\\aarti\\documents\\supply chain optimisation ml\\.venv\\lib\\site-packages (1.50.0)\n",
      "Note: you may need to restart the kernel to use updated packages.\n"
     ]
    },
    {
     "name": "stderr",
     "output_type": "stream",
     "text": [
      "ERROR: Could not find a version that satisfies the requirement jupyter_streamlit (from versions: none)\n",
      "ERROR: No matching distribution found for jupyter_streamlit\n"
     ]
    }
   ],
   "source": [
    "pip install streamlit jupyter_streamlit\n"
   ]
  },
  {
   "cell_type": "code",
   "execution_count": 4,
   "id": "9263d8a7",
   "metadata": {},
   "outputs": [
    {
     "name": "stderr",
     "output_type": "stream",
     "text": [
      "2025-10-04 21:12:29.903 Thread 'MainThread': missing ScriptRunContext! This warning can be ignored when running in bare mode.\n",
      "2025-10-04 21:12:29.905 Thread 'MainThread': missing ScriptRunContext! This warning can be ignored when running in bare mode.\n",
      "2025-10-04 21:12:29.906 Thread 'MainThread': missing ScriptRunContext! This warning can be ignored when running in bare mode.\n"
     ]
    }
   ],
   "source": [
    "import streamlit as st\n",
    "st.write(\"Hello! Streamlit is working inside Jupyter 🎉\")\n",
    "\n"
   ]
  }
 ],
 "metadata": {
  "kernelspec": {
   "display_name": ".venv",
   "language": "python",
   "name": "python3"
  },
  "language_info": {
   "codemirror_mode": {
    "name": "ipython",
    "version": 3
   },
   "file_extension": ".py",
   "mimetype": "text/x-python",
   "name": "python",
   "nbconvert_exporter": "python",
   "pygments_lexer": "ipython3",
   "version": "3.11.9"
  }
 },
 "nbformat": 4,
 "nbformat_minor": 5
}
