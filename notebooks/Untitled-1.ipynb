{
 "cells": [
  {
   "cell_type": "markdown",
   "id": "b55f8089",
   "metadata": {},
   "source": [
    "# Biologics Supply Chain Dashboard\n",
    "\n",
    "This notebook builds an interactive dashboard for biologics supply chain analysis, including sales trends, safety stock, inventory optimization, demand forecasting, and FDA shortage risk integration."
   ]
  },
  {
   "cell_type": "markdown",
   "id": "ccb042dd",
   "metadata": {},
   "source": [
    "## 1. Import Libraries and Setup\n",
    "\n",
    "Import required libraries and set up the notebook environment."
   ]
  },
  {
   "cell_type": "code",
   "execution_count": 1,
   "id": "db5e4dac",
   "metadata": {},
   "outputs": [],
   "source": [
    "import pandas as pd\n",
    "import numpy as np\n",
    "import seaborn as sns\n",
    "import matplotlib.pyplot as plt\n",
    "import plotly.express as px\n",
    "import pulp\n",
    "from prophet import Prophet\n",
    "\n",
    "# Optional: display settings\n",
    "%matplotlib inline\n",
    "sns.set(style=\"whitegrid\")\n",
    "plt.rcParams[\"figure.figsize\"] = (10,6)"
   ]
  },
  {
   "cell_type": "markdown",
   "id": "e086eda2",
   "metadata": {},
   "source": [
    "## 2. Load and Prepare Sales Data\n",
    "\n",
    "Read sales data from CSV, clean column names, and convert date columns to datetime format."
   ]
  },
  {
   "cell_type": "code",
   "execution_count": 4,
   "id": "a726951e",
   "metadata": {},
   "outputs": [
    {
     "name": "stdout",
     "output_type": "stream",
     "text": [
      "File not found: ../data/salesweekly.csv. Using sample data instead.\n",
      "        date  DrugA  DrugB  DrugC\n",
      "0 2024-01-07    100     80     60\n",
      "1 2024-01-14    120     85     65\n",
      "2 2024-01-21    110     90     70\n",
      "3 2024-01-28     90     88     68\n",
      "4 2024-02-04     95     92     72\n"
     ]
    }
   ],
   "source": [
    "import os\n",
    "\n",
    "# Load sales data\n",
    "sales_file = \"../data/salesweekly.csv\"\n",
    "if not os.path.exists(sales_file):\n",
    "\tprint(f\"File not found: {sales_file}. Using sample data instead.\")\n",
    "\tsales_df = pd.DataFrame({\n",
    "\t\t'date': pd.date_range(start='2024-01-01', periods=5, freq='W'),\n",
    "\t\t'DrugA': [100, 120, 110, 90, 95],\n",
    "\t\t'DrugB': [80, 85, 90, 88, 92],\n",
    "\t\t'DrugC': [60, 65, 70, 68, 72]\n",
    "\t})\n",
    "else:\n",
    "\tsales_df = pd.read_csv(sales_file, header=None)\n",
    "\t# Extract column names from first row\n",
    "\tcolumns = sales_df.iloc[0, 0].split(\",\")\n",
    "\tsales_df = sales_df[1:]\n",
    "\tsales_df = sales_df.iloc[:, 0].str.split(\",\", expand=True)\n",
    "\tsales_df.columns = columns\n",
    "\tsales_df.columns = sales_df.columns.str.strip()\n",
    "\t# Convert date column to datetime\n",
    "\tsales_df['date'] = pd.to_datetime(sales_df['date'], format='%m/%d/%Y')\n",
    "\n",
    "print(sales_df.head())"
   ]
  },
  {
   "cell_type": "markdown",
   "id": "9f4b3826",
   "metadata": {},
   "source": [
    "## 3. Transform Data for Visualization\n",
    "\n",
    "Melt sales data to long format, ensure numeric types, and calculate safety stock."
   ]
  },
  {
   "cell_type": "code",
   "execution_count": 5,
   "id": "e7f386c4",
   "metadata": {},
   "outputs": [
    {
     "name": "stdout",
     "output_type": "stream",
     "text": [
      "        date product_code  units_sold  safety_stock\n",
      "0 2024-01-07        DrugA         100         230.0\n",
      "1 2024-01-14        DrugA         120         276.0\n",
      "2 2024-01-21        DrugA         110         253.0\n",
      "3 2024-01-28        DrugA          90         207.0\n",
      "4 2024-02-04        DrugA          95         218.5\n"
     ]
    }
   ],
   "source": [
    "# Melt to long format\n",
    "sales_long = sales_df.melt(id_vars=['date'], var_name='product_code', value_name='units_sold')\n",
    "sales_long['units_sold'] = pd.to_numeric(sales_long['units_sold'], errors='coerce')\n",
    "\n",
    "# Calculate safety stock (2.3x for biologics)\n",
    "sales_long['safety_stock'] = sales_long['units_sold'] * 2.3\n",
    "\n",
    "print(sales_long.head())"
   ]
  },
  {
   "cell_type": "markdown",
   "id": "4c6f7d63",
   "metadata": {},
   "source": [
    "## 4. Sales Trends Visualization\n",
    "\n",
    "Interactive line chart of units sold over time for each product."
   ]
  },
  {
   "cell_type": "code",
   "execution_count": 6,
   "id": "3c6914f7",
   "metadata": {},
   "outputs": [
    {
     "data": {
      "application/vnd.plotly.v1+json": {
       "config": {
        "plotlyServerURL": "https://plot.ly"
       },
       "data": [
        {
         "hovertemplate": "product_code=DrugA<br>date=%{x}<br>units_sold=%{y}<extra></extra>",
         "legendgroup": "DrugA",
         "line": {
          "color": "#636efa",
          "dash": "solid"
         },
         "marker": {
          "symbol": "circle"
         },
         "mode": "lines",
         "name": "DrugA",
         "orientation": "v",
         "showlegend": true,
         "type": "scatter",
         "x": [
          "2024-01-07T00:00:00.000000000",
          "2024-01-14T00:00:00.000000000",
          "2024-01-21T00:00:00.000000000",
          "2024-01-28T00:00:00.000000000",
          "2024-02-04T00:00:00.000000000"
         ],
         "xaxis": "x",
         "y": {
          "bdata": "ZHhuWl8=",
          "dtype": "i1"
         },
         "yaxis": "y"
        },
        {
         "hovertemplate": "product_code=DrugB<br>date=%{x}<br>units_sold=%{y}<extra></extra>",
         "legendgroup": "DrugB",
         "line": {
          "color": "#EF553B",
          "dash": "solid"
         },
         "marker": {
          "symbol": "circle"
         },
         "mode": "lines",
         "name": "DrugB",
         "orientation": "v",
         "showlegend": true,
         "type": "scatter",
         "x": [
          "2024-01-07T00:00:00.000000000",
          "2024-01-14T00:00:00.000000000",
          "2024-01-21T00:00:00.000000000",
          "2024-01-28T00:00:00.000000000",
          "2024-02-04T00:00:00.000000000"
         ],
         "xaxis": "x",
         "y": {
          "bdata": "UFVaWFw=",
          "dtype": "i1"
         },
         "yaxis": "y"
        },
        {
         "hovertemplate": "product_code=DrugC<br>date=%{x}<br>units_sold=%{y}<extra></extra>",
         "legendgroup": "DrugC",
         "line": {
          "color": "#00cc96",
          "dash": "solid"
         },
         "marker": {
          "symbol": "circle"
         },
         "mode": "lines",
         "name": "DrugC",
         "orientation": "v",
         "showlegend": true,
         "type": "scatter",
         "x": [
          "2024-01-07T00:00:00.000000000",
          "2024-01-14T00:00:00.000000000",
          "2024-01-21T00:00:00.000000000",
          "2024-01-28T00:00:00.000000000",
          "2024-02-04T00:00:00.000000000"
         ],
         "xaxis": "x",
         "y": {
          "bdata": "PEFGREg=",
          "dtype": "i1"
         },
         "yaxis": "y"
        }
       ],
       "layout": {
        "legend": {
         "title": {
          "text": "product_code"
         },
         "tracegroupgap": 0
        },
        "template": {
         "data": {
          "bar": [
           {
            "error_x": {
             "color": "#2a3f5f"
            },
            "error_y": {
             "color": "#2a3f5f"
            },
            "marker": {
             "line": {
              "color": "#E5ECF6",
              "width": 0.5
             },
             "pattern": {
              "fillmode": "overlay",
              "size": 10,
              "solidity": 0.2
             }
            },
            "type": "bar"
           }
          ],
          "barpolar": [
           {
            "marker": {
             "line": {
              "color": "#E5ECF6",
              "width": 0.5
             },
             "pattern": {
              "fillmode": "overlay",
              "size": 10,
              "solidity": 0.2
             }
            },
            "type": "barpolar"
           }
          ],
          "carpet": [
           {
            "aaxis": {
             "endlinecolor": "#2a3f5f",
             "gridcolor": "white",
             "linecolor": "white",
             "minorgridcolor": "white",
             "startlinecolor": "#2a3f5f"
            },
            "baxis": {
             "endlinecolor": "#2a3f5f",
             "gridcolor": "white",
             "linecolor": "white",
             "minorgridcolor": "white",
             "startlinecolor": "#2a3f5f"
            },
            "type": "carpet"
           }
          ],
          "choropleth": [
           {
            "colorbar": {
             "outlinewidth": 0,
             "ticks": ""
            },
            "type": "choropleth"
           }
          ],
          "contour": [
           {
            "colorbar": {
             "outlinewidth": 0,
             "ticks": ""
            },
            "colorscale": [
             [
              0,
              "#0d0887"
             ],
             [
              0.1111111111111111,
              "#46039f"
             ],
             [
              0.2222222222222222,
              "#7201a8"
             ],
             [
              0.3333333333333333,
              "#9c179e"
             ],
             [
              0.4444444444444444,
              "#bd3786"
             ],
             [
              0.5555555555555556,
              "#d8576b"
             ],
             [
              0.6666666666666666,
              "#ed7953"
             ],
             [
              0.7777777777777778,
              "#fb9f3a"
             ],
             [
              0.8888888888888888,
              "#fdca26"
             ],
             [
              1,
              "#f0f921"
             ]
            ],
            "type": "contour"
           }
          ],
          "contourcarpet": [
           {
            "colorbar": {
             "outlinewidth": 0,
             "ticks": ""
            },
            "type": "contourcarpet"
           }
          ],
          "heatmap": [
           {
            "colorbar": {
             "outlinewidth": 0,
             "ticks": ""
            },
            "colorscale": [
             [
              0,
              "#0d0887"
             ],
             [
              0.1111111111111111,
              "#46039f"
             ],
             [
              0.2222222222222222,
              "#7201a8"
             ],
             [
              0.3333333333333333,
              "#9c179e"
             ],
             [
              0.4444444444444444,
              "#bd3786"
             ],
             [
              0.5555555555555556,
              "#d8576b"
             ],
             [
              0.6666666666666666,
              "#ed7953"
             ],
             [
              0.7777777777777778,
              "#fb9f3a"
             ],
             [
              0.8888888888888888,
              "#fdca26"
             ],
             [
              1,
              "#f0f921"
             ]
            ],
            "type": "heatmap"
           }
          ],
          "histogram": [
           {
            "marker": {
             "pattern": {
              "fillmode": "overlay",
              "size": 10,
              "solidity": 0.2
             }
            },
            "type": "histogram"
           }
          ],
          "histogram2d": [
           {
            "colorbar": {
             "outlinewidth": 0,
             "ticks": ""
            },
            "colorscale": [
             [
              0,
              "#0d0887"
             ],
             [
              0.1111111111111111,
              "#46039f"
             ],
             [
              0.2222222222222222,
              "#7201a8"
             ],
             [
              0.3333333333333333,
              "#9c179e"
             ],
             [
              0.4444444444444444,
              "#bd3786"
             ],
             [
              0.5555555555555556,
              "#d8576b"
             ],
             [
              0.6666666666666666,
              "#ed7953"
             ],
             [
              0.7777777777777778,
              "#fb9f3a"
             ],
             [
              0.8888888888888888,
              "#fdca26"
             ],
             [
              1,
              "#f0f921"
             ]
            ],
            "type": "histogram2d"
           }
          ],
          "histogram2dcontour": [
           {
            "colorbar": {
             "outlinewidth": 0,
             "ticks": ""
            },
            "colorscale": [
             [
              0,
              "#0d0887"
             ],
             [
              0.1111111111111111,
              "#46039f"
             ],
             [
              0.2222222222222222,
              "#7201a8"
             ],
             [
              0.3333333333333333,
              "#9c179e"
             ],
             [
              0.4444444444444444,
              "#bd3786"
             ],
             [
              0.5555555555555556,
              "#d8576b"
             ],
             [
              0.6666666666666666,
              "#ed7953"
             ],
             [
              0.7777777777777778,
              "#fb9f3a"
             ],
             [
              0.8888888888888888,
              "#fdca26"
             ],
             [
              1,
              "#f0f921"
             ]
            ],
            "type": "histogram2dcontour"
           }
          ],
          "mesh3d": [
           {
            "colorbar": {
             "outlinewidth": 0,
             "ticks": ""
            },
            "type": "mesh3d"
           }
          ],
          "parcoords": [
           {
            "line": {
             "colorbar": {
              "outlinewidth": 0,
              "ticks": ""
             }
            },
            "type": "parcoords"
           }
          ],
          "pie": [
           {
            "automargin": true,
            "type": "pie"
           }
          ],
          "scatter": [
           {
            "fillpattern": {
             "fillmode": "overlay",
             "size": 10,
             "solidity": 0.2
            },
            "type": "scatter"
           }
          ],
          "scatter3d": [
           {
            "line": {
             "colorbar": {
              "outlinewidth": 0,
              "ticks": ""
             }
            },
            "marker": {
             "colorbar": {
              "outlinewidth": 0,
              "ticks": ""
             }
            },
            "type": "scatter3d"
           }
          ],
          "scattercarpet": [
           {
            "marker": {
             "colorbar": {
              "outlinewidth": 0,
              "ticks": ""
             }
            },
            "type": "scattercarpet"
           }
          ],
          "scattergeo": [
           {
            "marker": {
             "colorbar": {
              "outlinewidth": 0,
              "ticks": ""
             }
            },
            "type": "scattergeo"
           }
          ],
          "scattergl": [
           {
            "marker": {
             "colorbar": {
              "outlinewidth": 0,
              "ticks": ""
             }
            },
            "type": "scattergl"
           }
          ],
          "scattermap": [
           {
            "marker": {
             "colorbar": {
              "outlinewidth": 0,
              "ticks": ""
             }
            },
            "type": "scattermap"
           }
          ],
          "scattermapbox": [
           {
            "marker": {
             "colorbar": {
              "outlinewidth": 0,
              "ticks": ""
             }
            },
            "type": "scattermapbox"
           }
          ],
          "scatterpolar": [
           {
            "marker": {
             "colorbar": {
              "outlinewidth": 0,
              "ticks": ""
             }
            },
            "type": "scatterpolar"
           }
          ],
          "scatterpolargl": [
           {
            "marker": {
             "colorbar": {
              "outlinewidth": 0,
              "ticks": ""
             }
            },
            "type": "scatterpolargl"
           }
          ],
          "scatterternary": [
           {
            "marker": {
             "colorbar": {
              "outlinewidth": 0,
              "ticks": ""
             }
            },
            "type": "scatterternary"
           }
          ],
          "surface": [
           {
            "colorbar": {
             "outlinewidth": 0,
             "ticks": ""
            },
            "colorscale": [
             [
              0,
              "#0d0887"
             ],
             [
              0.1111111111111111,
              "#46039f"
             ],
             [
              0.2222222222222222,
              "#7201a8"
             ],
             [
              0.3333333333333333,
              "#9c179e"
             ],
             [
              0.4444444444444444,
              "#bd3786"
             ],
             [
              0.5555555555555556,
              "#d8576b"
             ],
             [
              0.6666666666666666,
              "#ed7953"
             ],
             [
              0.7777777777777778,
              "#fb9f3a"
             ],
             [
              0.8888888888888888,
              "#fdca26"
             ],
             [
              1,
              "#f0f921"
             ]
            ],
            "type": "surface"
           }
          ],
          "table": [
           {
            "cells": {
             "fill": {
              "color": "#EBF0F8"
             },
             "line": {
              "color": "white"
             }
            },
            "header": {
             "fill": {
              "color": "#C8D4E3"
             },
             "line": {
              "color": "white"
             }
            },
            "type": "table"
           }
          ]
         },
         "layout": {
          "annotationdefaults": {
           "arrowcolor": "#2a3f5f",
           "arrowhead": 0,
           "arrowwidth": 1
          },
          "autotypenumbers": "strict",
          "coloraxis": {
           "colorbar": {
            "outlinewidth": 0,
            "ticks": ""
           }
          },
          "colorscale": {
           "diverging": [
            [
             0,
             "#8e0152"
            ],
            [
             0.1,
             "#c51b7d"
            ],
            [
             0.2,
             "#de77ae"
            ],
            [
             0.3,
             "#f1b6da"
            ],
            [
             0.4,
             "#fde0ef"
            ],
            [
             0.5,
             "#f7f7f7"
            ],
            [
             0.6,
             "#e6f5d0"
            ],
            [
             0.7,
             "#b8e186"
            ],
            [
             0.8,
             "#7fbc41"
            ],
            [
             0.9,
             "#4d9221"
            ],
            [
             1,
             "#276419"
            ]
           ],
           "sequential": [
            [
             0,
             "#0d0887"
            ],
            [
             0.1111111111111111,
             "#46039f"
            ],
            [
             0.2222222222222222,
             "#7201a8"
            ],
            [
             0.3333333333333333,
             "#9c179e"
            ],
            [
             0.4444444444444444,
             "#bd3786"
            ],
            [
             0.5555555555555556,
             "#d8576b"
            ],
            [
             0.6666666666666666,
             "#ed7953"
            ],
            [
             0.7777777777777778,
             "#fb9f3a"
            ],
            [
             0.8888888888888888,
             "#fdca26"
            ],
            [
             1,
             "#f0f921"
            ]
           ],
           "sequentialminus": [
            [
             0,
             "#0d0887"
            ],
            [
             0.1111111111111111,
             "#46039f"
            ],
            [
             0.2222222222222222,
             "#7201a8"
            ],
            [
             0.3333333333333333,
             "#9c179e"
            ],
            [
             0.4444444444444444,
             "#bd3786"
            ],
            [
             0.5555555555555556,
             "#d8576b"
            ],
            [
             0.6666666666666666,
             "#ed7953"
            ],
            [
             0.7777777777777778,
             "#fb9f3a"
            ],
            [
             0.8888888888888888,
             "#fdca26"
            ],
            [
             1,
             "#f0f921"
            ]
           ]
          },
          "colorway": [
           "#636efa",
           "#EF553B",
           "#00cc96",
           "#ab63fa",
           "#FFA15A",
           "#19d3f3",
           "#FF6692",
           "#B6E880",
           "#FF97FF",
           "#FECB52"
          ],
          "font": {
           "color": "#2a3f5f"
          },
          "geo": {
           "bgcolor": "white",
           "lakecolor": "white",
           "landcolor": "#E5ECF6",
           "showlakes": true,
           "showland": true,
           "subunitcolor": "white"
          },
          "hoverlabel": {
           "align": "left"
          },
          "hovermode": "closest",
          "mapbox": {
           "style": "light"
          },
          "paper_bgcolor": "white",
          "plot_bgcolor": "#E5ECF6",
          "polar": {
           "angularaxis": {
            "gridcolor": "white",
            "linecolor": "white",
            "ticks": ""
           },
           "bgcolor": "#E5ECF6",
           "radialaxis": {
            "gridcolor": "white",
            "linecolor": "white",
            "ticks": ""
           }
          },
          "scene": {
           "xaxis": {
            "backgroundcolor": "#E5ECF6",
            "gridcolor": "white",
            "gridwidth": 2,
            "linecolor": "white",
            "showbackground": true,
            "ticks": "",
            "zerolinecolor": "white"
           },
           "yaxis": {
            "backgroundcolor": "#E5ECF6",
            "gridcolor": "white",
            "gridwidth": 2,
            "linecolor": "white",
            "showbackground": true,
            "ticks": "",
            "zerolinecolor": "white"
           },
           "zaxis": {
            "backgroundcolor": "#E5ECF6",
            "gridcolor": "white",
            "gridwidth": 2,
            "linecolor": "white",
            "showbackground": true,
            "ticks": "",
            "zerolinecolor": "white"
           }
          },
          "shapedefaults": {
           "line": {
            "color": "#2a3f5f"
           }
          },
          "ternary": {
           "aaxis": {
            "gridcolor": "white",
            "linecolor": "white",
            "ticks": ""
           },
           "baxis": {
            "gridcolor": "white",
            "linecolor": "white",
            "ticks": ""
           },
           "bgcolor": "#E5ECF6",
           "caxis": {
            "gridcolor": "white",
            "linecolor": "white",
            "ticks": ""
           }
          },
          "title": {
           "x": 0.05
          },
          "xaxis": {
           "automargin": true,
           "gridcolor": "white",
           "linecolor": "white",
           "ticks": "",
           "title": {
            "standoff": 15
           },
           "zerolinecolor": "white",
           "zerolinewidth": 2
          },
          "yaxis": {
           "automargin": true,
           "gridcolor": "white",
           "linecolor": "white",
           "ticks": "",
           "title": {
            "standoff": 15
           },
           "zerolinecolor": "white",
           "zerolinewidth": 2
          }
         }
        },
        "title": {
         "text": "Units Sold Over Time"
        },
        "xaxis": {
         "anchor": "y",
         "domain": [
          0,
          1
         ],
         "title": {
          "text": "date"
         }
        },
        "yaxis": {
         "anchor": "x",
         "domain": [
          0,
          1
         ],
         "title": {
          "text": "units_sold"
         }
        }
       }
      }
     },
     "metadata": {},
     "output_type": "display_data"
    }
   ],
   "source": [
    "fig = px.line(sales_long, x='date', y='units_sold', color='product_code', title='Units Sold Over Time')\n",
    "fig.show()"
   ]
  },
  {
   "cell_type": "markdown",
   "id": "45b15ff7",
   "metadata": {},
   "source": [
    "## 5. Safety Stock Heatmap\n",
    "\n",
    "Pivot safety stock data and plot a heatmap to visualize stockout risk across products and dates."
   ]
  },
  {
   "cell_type": "code",
   "execution_count": 7,
   "id": "6fa0811c",
   "metadata": {},
   "outputs": [
    {
     "data": {
      "image/png": "[encoded data removed]",
      "text/plain": [
       "<Figure size 1200x600 with 2 Axes>"
      ]
     },
     "metadata": {},
     "output_type": "display_data"
    }
   ],
   "source": [
    "stockout = sales_long.pivot_table(index='product_code', columns='date', values='safety_stock')\n",
    "plt.figure(figsize=(12,6))\n",
    "sns.heatmap(stockout, cmap='Reds')\n",
    "plt.title('Safety Stock Risk Heatmap')\n",
    "plt.xlabel('Date')\n",
    "plt.ylabel('Product Code')\n",
    "plt.show()"
   ]
  },
  {
   "cell_type": "markdown",
   "id": "a1d99676",
   "metadata": {},
   "source": [
    "## 6. Weekly Sales Distribution Boxplot\n",
    "\n",
    "Boxplot of weekly sales by product to show distribution and outliers."
   ]
  },
  {
   "cell_type": "code",
   "execution_count": 8,
   "id": "f1e73625",
   "metadata": {},
   "outputs": [
    {
     "data": {
      "application/vnd.plotly.v1+json": {
       "config": {
        "plotlyServerURL": "https://plot.ly"
       },
       "data": [
        {
         "alignmentgroup": "True",
         "hovertemplate": "product_code=%{x}<br>units_sold=%{y}<extra></extra>",
         "legendgroup": "",
         "marker": {
          "color": "#636efa"
         },
         "name": "",
         "notched": false,
         "offsetgroup": "",
         "orientation": "v",
         "showlegend": false,
         "type": "box",
         "x": [
          "DrugA",
          "DrugA",
          "DrugA",
          "DrugA",
          "DrugA",
          "DrugB",
          "DrugB",
          "DrugB",
          "DrugB",
          "DrugB",
          "DrugC",
          "DrugC",
          "DrugC",
          "DrugC",
          "DrugC"
         ],
         "x0": " ",
         "xaxis": "x",
         "y": {
          "bdata": "ZHhuWl9QVVpYXDxBRkRI",
          "dtype": "i1"
         },
         "y0": " ",
         "yaxis": "y"
        }
       ],
       "layout": {
        "boxmode": "group",
        "legend": {
         "tracegroupgap": 0
        },
        "template": {
         "data": {
          "bar": [
           {
            "error_x": {
             "color": "#2a3f5f"
            },
            "error_y": {
             "color": "#2a3f5f"
            },
            "marker": {
             "line": {
              "color": "#E5ECF6",
              "width": 0.5
             },
             "pattern": {
              "fillmode": "overlay",
              "size": 10,
              "solidity": 0.2
             }
            },
            "type": "bar"
           }
          ],
          "barpolar": [
           {
            "marker": {
             "line": {
              "color": "#E5ECF6",
              "width": 0.5
             },
             "pattern": {
              "fillmode": "overlay",
              "size": 10,
              "solidity": 0.2
             }
            },
            "type": "barpolar"
           }
          ],
          "carpet": [
           {
            "aaxis": {
             "endlinecolor": "#2a3f5f",
             "gridcolor": "white",
             "linecolor": "white",
             "minorgridcolor": "white",
             "startlinecolor": "#2a3f5f"
            },
            "baxis": {
             "endlinecolor": "#2a3f5f",
             "gridcolor": "white",
             "linecolor": "white",
             "minorgridcolor": "white",
             "startlinecolor": "#2a3f5f"
            },
            "type": "carpet"
           }
          ],
          "choropleth": [
           {
            "colorbar": {
             "outlinewidth": 0,
             "ticks": ""
            },
            "type": "choropleth"
           }
          ],
          "contour": [
           {
            "colorbar": {
             "outlinewidth": 0,
             "ticks": ""
            },
            "colorscale": [
             [
              0,
              "#0d0887"
             ],
             [
              0.1111111111111111,
              "#46039f"
             ],
             [
              0.2222222222222222,
              "#7201a8"
             ],
             [
              0.3333333333333333,
              "#9c179e"
             ],
             [
              0.4444444444444444,
              "#bd3786"
             ],
             [
              0.5555555555555556,
              "#d8576b"
             ],
             [
              0.6666666666666666,
              "#ed7953"
             ],
             [
              0.7777777777777778,
              "#fb9f3a"
             ],
             [
              0.8888888888888888,
              "#fdca26"
             ],
             [
              1,
              "#f0f921"
             ]
            ],
            "type": "contour"
           }
          ],
          "contourcarpet": [
           {
            "colorbar": {
             "outlinewidth": 0,
             "ticks": ""
            },
            "type": "contourcarpet"
           }
          ],
          "heatmap": [
           {
            "colorbar": {
             "outlinewidth": 0,
             "ticks": ""
            },
            "colorscale": [
             [
              0,
              "#0d0887"
             ],
             [
              0.1111111111111111,
              "#46039f"
             ],
             [
              0.2222222222222222,
              "#7201a8"
             ],
             [
              0.3333333333333333,
              "#9c179e"
             ],
             [
              0.4444444444444444,
              "#bd3786"
             ],
             [
              0.5555555555555556,
              "#d8576b"
             ],
             [
              0.6666666666666666,
              "#ed7953"
             ],
             [
              0.7777777777777778,
              "#fb9f3a"
             ],
             [
              0.8888888888888888,
              "#fdca26"
             ],
             [
              1,
              "#f0f921"
             ]
            ],
            "type": "heatmap"
           }
          ],
          "histogram": [
           {
            "marker": {
             "pattern": {
              "fillmode": "overlay",
              "size": 10,
              "solidity": 0.2
             }
            },
            "type": "histogram"
           }
          ],
          "histogram2d": [
           {
            "colorbar": {
             "outlinewidth": 0,
             "ticks": ""
            },
            "colorscale": [
             [
              0,
              "#0d0887"
             ],
             [
              0.1111111111111111,
              "#46039f"
             ],
             [
              0.2222222222222222,
              "#7201a8"
             ],
             [
              0.3333333333333333,
              "#9c179e"
             ],
             [
              0.4444444444444444,
              "#bd3786"
             ],
             [
              0.5555555555555556,
              "#d8576b"
             ],
             [
              0.6666666666666666,
              "#ed7953"
             ],
             [
              0.7777777777777778,
              "#fb9f3a"
             ],
             [
              0.8888888888888888,
              "#fdca26"
             ],
             [
              1,
              "#f0f921"
             ]
            ],
            "type": "histogram2d"
           }
          ],
          "histogram2dcontour": [
           {
            "colorbar": {
             "outlinewidth": 0,
             "ticks": ""
            },
            "colorscale": [
             [
              0,
              "#0d0887"
             ],
             [
              0.1111111111111111,
              "#46039f"
             ],
             [
              0.2222222222222222,
              "#7201a8"
             ],
             [
              0.3333333333333333,
              "#9c179e"
             ],
             [
              0.4444444444444444,
              "#bd3786"
             ],
             [
              0.5555555555555556,
              "#d8576b"
             ],
             [
              0.6666666666666666,
              "#ed7953"
             ],
             [
              0.7777777777777778,
              "#fb9f3a"
             ],
             [
              0.8888888888888888,
              "#fdca26"
             ],
             [
              1,
              "#f0f921"
             ]
            ],
            "type": "histogram2dcontour"
           }
          ],
          "mesh3d": [
           {
            "colorbar": {
             "outlinewidth": 0,
             "ticks": ""
            },
            "type": "mesh3d"
           }
          ],
          "parcoords": [
           {
            "line": {
             "colorbar": {
              "outlinewidth": 0,
              "ticks": ""
             }
            },
            "type": "parcoords"
           }
          ],
          "pie": [
           {
            "automargin": true,
            "type": "pie"
           }
          ],
          "scatter": [
           {
            "fillpattern": {
             "fillmode": "overlay",
             "size": 10,
             "solidity": 0.2
            },
            "type": "scatter"
           }
          ],
          "scatter3d": [
           {
            "line": {
             "colorbar": {
              "outlinewidth": 0,
              "ticks": ""
             }
            },
            "marker": {
             "colorbar": {
              "outlinewidth": 0,
              "ticks": ""
             }
            },
            "type": "scatter3d"
           }
          ],
          "scattercarpet": [
           {
            "marker": {
             "colorbar": {
              "outlinewidth": 0,
              "ticks": ""
             }
            },
            "type": "scattercarpet"
           }
          ],
          "scattergeo": [
           {
            "marker": {
             "colorbar": {
              "outlinewidth": 0,
              "ticks": ""
             }
            },
            "type": "scattergeo"
           }
          ],
          "scattergl": [
           {
            "marker": {
             "colorbar": {
              "outlinewidth": 0,
              "ticks": ""
             }
            },
            "type": "scattergl"
           }
          ],
          "scattermap": [
           {
            "marker": {
             "colorbar": {
              "outlinewidth": 0,
              "ticks": ""
             }
            },
            "type": "scattermap"
           }
          ],
          "scattermapbox": [
           {
            "marker": {
             "colorbar": {
              "outlinewidth": 0,
              "ticks": ""
             }
            },
            "type": "scattermapbox"
           }
          ],
          "scatterpolar": [
           {
            "marker": {
             "colorbar": {
              "outlinewidth": 0,
              "ticks": ""
             }
            },
            "type": "scatterpolar"
           }
          ],
          "scatterpolargl": [
           {
            "marker": {
             "colorbar": {
              "outlinewidth": 0,
              "ticks": ""
             }
            },
            "type": "scatterpolargl"
           }
          ],
          "scatterternary": [
           {
            "marker": {
             "colorbar": {
              "outlinewidth": 0,
              "ticks": ""
             }
            },
            "type": "scatterternary"
           }
          ],
          "surface": [
           {
            "colorbar": {
             "outlinewidth": 0,
             "ticks": ""
            },
            "colorscale": [
             [
              0,
              "#0d0887"
             ],
             [
              0.1111111111111111,
              "#46039f"
             ],
             [
              0.2222222222222222,
              "#7201a8"
             ],
             [
              0.3333333333333333,
              "#9c179e"
             ],
             [
              0.4444444444444444,
              "#bd3786"
             ],
             [
              0.5555555555555556,
              "#d8576b"
             ],
             [
              0.6666666666666666,
              "#ed7953"
             ],
             [
              0.7777777777777778,
              "#fb9f3a"
             ],
             [
              0.8888888888888888,
              "#fdca26"
             ],
             [
              1,
              "#f0f921"
             ]
            ],
            "type": "surface"
           }
          ],
          "table": [
           {
            "cells": {
             "fill": {
              "color": "#EBF0F8"
             },
             "line": {
              "color": "white"
             }
            },
            "header": {
             "fill": {
              "color": "#C8D4E3"
             },
             "line": {
              "color": "white"
             }
            },
            "type": "table"
           }
          ]
         },
         "layout": {
          "annotationdefaults": {
           "arrowcolor": "#2a3f5f",
           "arrowhead": 0,
           "arrowwidth": 1
          },
          "autotypenumbers": "strict",
          "coloraxis": {
           "colorbar": {
            "outlinewidth": 0,
            "ticks": ""
           }
          },
          "colorscale": {
           "diverging": [
            [
             0,
             "#8e0152"
            ],
            [
             0.1,
             "#c51b7d"
            ],
            [
             0.2,
             "#de77ae"
            ],
            [
             0.3,
             "#f1b6da"
            ],
            [
             0.4,
             "#fde0ef"
            ],
            [
             0.5,
             "#f7f7f7"
            ],
            [
             0.6,
             "#e6f5d0"
            ],
            [
             0.7,
             "#b8e186"
            ],
            [
             0.8,
             "#7fbc41"
            ],
            [
             0.9,
             "#4d9221"
            ],
            [
             1,
             "#276419"
            ]
           ],
           "sequential": [
            [
             0,
             "#0d0887"
            ],
            [
             0.1111111111111111,
             "#46039f"
            ],
            [
             0.2222222222222222,
             "#7201a8"
            ],
            [
             0.3333333333333333,
             "#9c179e"
            ],
            [
             0.4444444444444444,
             "#bd3786"
            ],
            [
             0.5555555555555556,
             "#d8576b"
            ],
            [
             0.6666666666666666,
             "#ed7953"
            ],
            [
             0.7777777777777778,
             "#fb9f3a"
            ],
            [
             0.8888888888888888,
             "#fdca26"
            ],
            [
             1,
             "#f0f921"
            ]
           ],
           "sequentialminus": [
            [
             0,
             "#0d0887"
            ],
            [
             0.1111111111111111,
             "#46039f"
            ],
            [
             0.2222222222222222,
             "#7201a8"
            ],
            [
             0.3333333333333333,
             "#9c179e"
            ],
            [
             0.4444444444444444,
             "#bd3786"
            ],
            [
             0.5555555555555556,
             "#d8576b"
            ],
            [
             0.6666666666666666,
             "#ed7953"
            ],
            [
             0.7777777777777778,
             "#fb9f3a"
            ],
            [
             0.8888888888888888,
             "#fdca26"
            ],
            [
             1,
             "#f0f921"
            ]
           ]
          },
          "colorway": [
           "#636efa",
           "#EF553B",
           "#00cc96",
           "#ab63fa",
           "#FFA15A",
           "#19d3f3",
           "#FF6692",
           "#B6E880",
           "#FF97FF",
           "#FECB52"
          ],
          "font": {
           "color": "#2a3f5f"
          },
          "geo": {
           "bgcolor": "white",
           "lakecolor": "white",
           "landcolor": "#E5ECF6",
           "showlakes": true,
           "showland": true,
           "subunitcolor": "white"
          },
          "hoverlabel": {
           "align": "left"
          },
          "hovermode": "closest",
          "mapbox": {
           "style": "light"
          },
          "paper_bgcolor": "white",
          "plot_bgcolor": "#E5ECF6",
          "polar": {
           "angularaxis": {
            "gridcolor": "white",
            "linecolor": "white",
            "ticks": ""
           },
           "bgcolor": "#E5ECF6",
           "radialaxis": {
            "gridcolor": "white",
            "linecolor": "white",
            "ticks": ""
           }
          },
          "scene": {
           "xaxis": {
            "backgroundcolor": "#E5ECF6",
            "gridcolor": "white",
            "gridwidth": 2,
            "linecolor": "white",
            "showbackground": true,
            "ticks": "",
            "zerolinecolor": "white"
           },
           "yaxis": {
            "backgroundcolor": "#E5ECF6",
            "gridcolor": "white",
            "gridwidth": 2,
            "linecolor": "white",
            "showbackground": true,
            "ticks": "",
            "zerolinecolor": "white"
           },
           "zaxis": {
            "backgroundcolor": "#E5ECF6",
            "gridcolor": "white",
            "gridwidth": 2,
            "linecolor": "white",
            "showbackground": true,
            "ticks": "",
            "zerolinecolor": "white"
           }
          },
          "shapedefaults": {
           "line": {
            "color": "#2a3f5f"
           }
          },
          "ternary": {
           "aaxis": {
            "gridcolor": "white",
            "linecolor": "white",
            "ticks": ""
           },
           "baxis": {
            "gridcolor": "white",
            "linecolor": "white",
            "ticks": ""
           },
           "bgcolor": "#E5ECF6",
           "caxis": {
            "gridcolor": "white",
            "linecolor": "white",
            "ticks": ""
           }
          },
          "title": {
           "x": 0.05
          },
          "xaxis": {
           "automargin": true,
           "gridcolor": "white",
           "linecolor": "white",
           "ticks": "",
           "title": {
            "standoff": 15
           },
           "zerolinecolor": "white",
           "zerolinewidth": 2
          },
          "yaxis": {
           "automargin": true,
           "gridcolor": "white",
           "linecolor": "white",
           "ticks": "",
           "title": {
            "standoff": 15
           },
           "zerolinecolor": "white",
           "zerolinewidth": 2
          }
         }
        },
        "title": {
         "text": "Distribution of Weekly Sales by Product"
        },
        "xaxis": {
         "anchor": "y",
         "domain": [
          0,
          1
         ],
         "title": {
          "text": "product_code"
         }
        },
        "yaxis": {
         "anchor": "x",
         "domain": [
          0,
          1
         ],
         "title": {
          "text": "units_sold"
         }
        }
       }
      }
     },
     "metadata": {},
     "output_type": "display_data"
    }
   ],
   "source": [
    "fig = px.box(sales_long, x='product_code', y='units_sold', title='Distribution of Weekly Sales by Product')\n",
    "fig.show()"
   ]
  },
  {
   "cell_type": "markdown",
   "id": "a5c75b4c",
   "metadata": {},
   "source": [
    "## 7. Stockout Risk Calculation and Visualization\n",
    "\n",
    "Calculate stockout risk percent per product and visualize with a bar chart."
   ]
  },
  {
   "cell_type": "code",
   "execution_count": 9,
   "id": "8ecb8296",
   "metadata": {},
   "outputs": [
    {
     "name": "stderr",
     "output_type": "stream",
     "text": [
      "C:\\Users\\aarti\\AppData\\Local\\Temp\\ipykernel_27708\\207065218.py:9: FutureWarning:\n",
      "\n",
      "\n",
      "\n",
      "Passing `palette` without assigning `hue` is deprecated and will be removed in v0.14.0. Assign the `x` variable to `hue` and set `legend=False` for the same effect.\n",
      "\n",
      "\n"
     ]
    },
    {
     "data": {
      "image/png": "[encoded data removed]",
      "text/plain": [
       "<Figure size 1000x600 with 1 Axes>"
      ]
     },
     "metadata": {},
     "output_type": "display_data"
    }
   ],
   "source": [
    "# Stockout flag: 1 if units_sold == 0, else 0\n",
    "sales_long['Stockout_Flag'] = (sales_long['units_sold'] == 0).astype(int)\n",
    "\n",
    "# Group by product_code and calculate stockout risk\n",
    "stockout_summary = sales_long.groupby('product_code')['Stockout_Flag'].mean().reset_index()\n",
    "stockout_summary['Stockout_Risk_Percent'] = stockout_summary['Stockout_Flag'] * 100\n",
    "\n",
    "plt.figure(figsize=(10,6))\n",
    "sns.barplot(x='product_code', y='Stockout_Risk_Percent', data=stockout_summary, palette='Reds')\n",
    "plt.title('Stockout Risk by Product Category')\n",
    "plt.ylabel('Stockout Risk (%)')\n",
    "plt.xlabel('Product Category')\n",
    "plt.xticks(rotation=45)\n",
    "plt.show()"
   ]
  },
  {
   "cell_type": "markdown",
   "id": "21214b83",
   "metadata": {},
   "source": [
    "## 8. Inventory Optimization (Single and Multi-material)\n",
    "\n",
    "Formulate and solve LP problems for inventory optimization using PuLP for both single and multi-material scenarios."
   ]
  },
  {
   "cell_type": "code",
   "execution_count": 12,
   "id": "4d8c24ce",
   "metadata": {},
   "outputs": [],
   "source": [
    "# Synthetic demand for 3 materials over 52 weeks\n",
    "np.random.seed(42)\n",
    "dates = pd.date_range(start='2024-01-01', periods=52, freq='W')\n",
    "synthetic_data = pd.DataFrame({\n",
    "    'date': np.tile(dates, 3),\n",
    "    'material': np.repeat(['Media', 'Reagent', 'Bioreactor'], len(dates)),\n",
    "    'demand_units': np.random.randint(50, 500, len(dates)*3)\n",
    "})\n",
    "\n",
    "# Single-material optimization (last week demand)\n",
    "materials = ['Media', 'Reagent', 'Bioreactor']\n",
    "last_week_demand = synthetic_data[synthetic_data['date'] == synthetic_data['date'].max()]\n",
    "demand_dict = dict(zip(last_week_demand['material'], last_week_demand['demand_units']))\n",
    "cost_dict = {'Media': 10, 'Reagent': 25, 'Bioreactor': 100}\n",
    "safety_stock_multiplier = 2.3\n",
    "\n",
    "prob = pulp.LpProblem(\"Supply_Optimization\", pulp.LpMinimize)\n",
    "order_qty = pulp.LpVariable.dicts(\"Order\", materials, lowBound=0, cat='Continuous')\n",
    "prob += pulp.lpSum([order_qty[m]*cost_dict[m] for m in materials]), \"Total_Cost\"\n",
    "for m in materials:\n",
    "    prob += order_qty[m] >= demand_dict[m] * safety_stock_multiplier, f\"SafetyStock_{m}\"\n",
    "prob.solve()\n",
    "optimization_results = {m: order_qty[m].varValue for m in materials}\n",
    "\n",
    "# Multi-material optimization (across weeks)\n",
    "df_multi = synthetic_data.copy()\n",
    "safety_multiplier = {'Media': 1.5, 'Reagent': 2.0, 'Bioreactor': 2.5}\n",
    "shortage_risk = {'Media': 0.1, 'Reagent': 0.2, 'Bioreactor': 0.3}\n",
    "df_multi['safety_stock'] = df_multi.apply(lambda x: x['demand_units'] * safety_multiplier[x['material']], axis=1)\n",
    "df_multi['stockout_cost'] = df_multi['demand_units'] * shortage_risk[df_multi['material'].iloc[0]] * 10\n",
    "df_multi['holding_cost'] = df_multi['demand_units'] * 0.5\n",
    "\n",
    "prob_multi = pulp.LpProblem(\"Multi_Material_Inventory_Optimization\", pulp.LpMinimize)\n",
    "stock_vars_multi = {(row['material'], row['date']): pulp.LpVariable(f\"stock_{row['material']}_{row['date']}\", lowBound=0, cat='Continuous') \n",
    "                    for idx, row in df_multi.iterrows()}\n",
    "stockout_amount_multi = {(row['material'], row['date']): pulp.LpVariable(f\"stockout_{row['material']}_{row['date']}\", lowBound=0, cat='Continuous')\n",
    "                         for idx, row in df_multi.iterrows()}\n",
    "for idx, row in df_multi.iterrows():\n",
    "    prob_multi += stockout_amount_multi[(row['material'], row['date'])] >= row['safety_stock'] - stock_vars_multi[(row['material'], row['date'])]\n",
    "prob_multi += pulp.lpSum([\n",
    "    stock_vars_multi[(row['material'], row['date'])] * row['holding_cost'] +\n",
    "    stockout_amount_multi[(row['material'], row['date'])] * row['stockout_cost']\n",
    "    for idx, row in df_multi.iterrows()\n",
    "])\n",
    "for week in df_multi['date'].unique():\n",
    "    prob_multi += pulp.lpSum([stock_vars_multi[(row['material'], row['date'])] \n",
    "                              for idx, row in df_multi[df_multi['date']==week].iterrows()]) <= 1000\n",
    "prob_multi.solve()\n",
    "\n",
    "# Build dataframe of optimized stocks\n",
    "optimized_multi = []\n",
    "for idx, row in df_multi.iterrows():\n",
    "    key = (row['material'], row['date'])\n",
    "    optimized_multi.append({\n",
    "        'material': row['material'],\n",
    "        'date': row['date'],\n",
    "        'optimized_stock': stock_vars_multi[key].varValue\n",
    "    })\n",
    "df_optimized_multi = pd.DataFrame(optimized_multi)"
   ]
  },
  {
   "cell_type": "markdown",
   "id": "caad4a73",
   "metadata": {},
   "source": [
    "## 9. Forecasting Demand with Prophet\n",
    "\n",
    "Fit Prophet models to sales or synthetic demand data, generate forecasts, and visualize actual vs forecasted sales."
   ]
  },
  {
   "cell_type": "code",
   "execution_count": 13,
   "id": "21df698c",
   "metadata": {},
   "outputs": [
    {
     "name": "stderr",
     "output_type": "stream",
     "text": [
      "21:07:22 - cmdstanpy - INFO - Chain [1] start processing\n",
      "21:07:23 - cmdstanpy - INFO - Chain [1] done processing\n"
     ]
    },
    {
     "data": {
      "application/vnd.plotly.v1+json": {
       "config": {
        "plotlyServerURL": "https://plot.ly"
       },
       "data": [
        {
         "hovertemplate": "<extra></extra>",
         "legendgroup": "",
         "line": {
          "color": "#636efa",
          "dash": "solid"
         },
         "marker": {
          "symbol": "circle"
         },
         "mode": "lines",
         "name": "",
         "orientation": "v",
         "showlegend": false,
         "type": "scatter",
         "xaxis": "x",
         "yaxis": "y"
        },
        {
         "mode": "lines",
         "name": "Actual Sales",
         "type": "scatter",
         "x": [
          "2024-01-07T00:00:00.000000000",
          "2024-01-14T00:00:00.000000000",
          "2024-01-21T00:00:00.000000000",
          "2024-01-28T00:00:00.000000000",
          "2024-02-04T00:00:00.000000000",
          "2024-02-11T00:00:00.000000000",
          "2024-02-18T00:00:00.000000000",
          "2024-02-25T00:00:00.000000000",
          "2024-03-03T00:00:00.000000000",
          "2024-03-10T00:00:00.000000000",
          "2024-03-17T00:00:00.000000000",
          "2024-03-24T00:00:00.000000000",
          "2024-03-31T00:00:00.000000000",
          "2024-04-07T00:00:00.000000000",
          "2024-04-14T00:00:00.000000000",
          "2024-04-21T00:00:00.000000000",
          "2024-04-28T00:00:00.000000000",
          "2024-05-05T00:00:00.000000000",
          "2024-05-12T00:00:00.000000000",
          "2024-05-19T00:00:00.000000000",
          "2024-05-26T00:00:00.000000000",
          "2024-06-02T00:00:00.000000000",
          "2024-06-09T00:00:00.000000000",
          "2024-06-16T00:00:00.000000000",
          "2024-06-23T00:00:00.000000000",
          "2024-06-30T00:00:00.000000000",
          "2024-07-07T00:00:00.000000000",
          "2024-07-14T00:00:00.000000000",
          "2024-07-21T00:00:00.000000000",
          "2024-07-28T00:00:00.000000000",
          "2024-08-04T00:00:00.000000000",
          "2024-08-11T00:00:00.000000000",
          "2024-08-18T00:00:00.000000000",
          "2024-08-25T00:00:00.000000000",
          "2024-09-01T00:00:00.000000000",
          "2024-09-08T00:00:00.000000000",
          "2024-09-15T00:00:00.000000000",
          "2024-09-22T00:00:00.000000000",
          "2024-09-29T00:00:00.000000000",
          "2024-10-06T00:00:00.000000000",
          "2024-10-13T00:00:00.000000000",
          "2024-10-20T00:00:00.000000000",
          "2024-10-27T00:00:00.000000000",
          "2024-11-03T00:00:00.000000000",
          "2024-11-10T00:00:00.000000000",
          "2024-11-17T00:00:00.000000000",
          "2024-11-24T00:00:00.000000000",
          "2024-12-01T00:00:00.000000000",
          "2024-12-08T00:00:00.000000000",
          "2024-12-15T00:00:00.000000000",
          "2024-12-22T00:00:00.000000000",
          "2024-12-29T00:00:00.000000000"
         ],
         "y": {
          "bdata": "mAAAAOUBAACOAQAAQAEAAJwAAAB5AAAA7gAAAEYAAACYAAAAqwAAAAgBAAB8AQAAiQAAAKYBAACVAAAAmQEAAMkAAAC0AAAAxwAAAGYBAAAzAQAAiQEAAM8BAABXAQAAswEAAPEAAADtAQAARgEAANIAAABrAQAARwAAAC4BAAAdAQAAigEAAGIAAABsAAAA2wAAAO0AAABAAQAA7wAAAO8BAADgAAAA7wEAAGQAAACdAQAAaAAAACUBAABxAQAAtAAAAGQBAAC4AAAARgAAAA==",
          "dtype": "i4"
         }
        },
        {
         "mode": "lines",
         "name": "Forecast",
         "type": "scatter",
         "x": [
          "2024-01-07T00:00:00.000000000",
          "2024-01-14T00:00:00.000000000",
          "2024-01-21T00:00:00.000000000",
          "2024-01-28T00:00:00.000000000",
          "2024-02-04T00:00:00.000000000",
          "2024-02-11T00:00:00.000000000",
          "2024-02-18T00:00:00.000000000",
          "2024-02-25T00:00:00.000000000",
          "2024-03-03T00:00:00.000000000",
          "2024-03-10T00:00:00.000000000",
          "2024-03-17T00:00:00.000000000",
          "2024-03-24T00:00:00.000000000",
          "2024-03-31T00:00:00.000000000",
          "2024-04-07T00:00:00.000000000",
          "2024-04-14T00:00:00.000000000",
          "2024-04-21T00:00:00.000000000",
          "2024-04-28T00:00:00.000000000",
          "2024-05-05T00:00:00.000000000",
          "2024-05-12T00:00:00.000000000",
          "2024-05-19T00:00:00.000000000",
          "2024-05-26T00:00:00.000000000",
          "2024-06-02T00:00:00.000000000",
          "2024-06-09T00:00:00.000000000",
          "2024-06-16T00:00:00.000000000",
          "2024-06-23T00:00:00.000000000",
          "2024-06-30T00:00:00.000000000",
          "2024-07-07T00:00:00.000000000",
          "2024-07-14T00:00:00.000000000",
          "2024-07-21T00:00:00.000000000",
          "2024-07-28T00:00:00.000000000",
          "2024-08-04T00:00:00.000000000",
          "2024-08-11T00:00:00.000000000",
          "2024-08-18T00:00:00.000000000",
          "2024-08-25T00:00:00.000000000",
          "2024-09-01T00:00:00.000000000",
          "2024-09-08T00:00:00.000000000",
          "2024-09-15T00:00:00.000000000",
          "2024-09-22T00:00:00.000000000",
          "2024-09-29T00:00:00.000000000",
          "2024-10-06T00:00:00.000000000",
          "2024-10-13T00:00:00.000000000",
          "2024-10-20T00:00:00.000000000",
          "2024-10-27T00:00:00.000000000",
          "2024-11-03T00:00:00.000000000",
          "2024-11-10T00:00:00.000000000",
          "2024-11-17T00:00:00.000000000",
          "2024-11-24T00:00:00.000000000",
          "2024-12-01T00:00:00.000000000",
          "2024-12-08T00:00:00.000000000",
          "2024-12-15T00:00:00.000000000",
          "2024-12-22T00:00:00.000000000",
          "2024-12-29T00:00:00.000000000",
          "2025-01-05T00:00:00.000000000",
          "2025-01-12T00:00:00.000000000",
          "2025-01-19T00:00:00.000000000",
          "2025-01-26T00:00:00.000000000",
          "2025-02-02T00:00:00.000000000",
          "2025-02-09T00:00:00.000000000",
          "2025-02-16T00:00:00.000000000",
          "2025-02-23T00:00:00.000000000",
          "2025-03-02T00:00:00.000000000",
          "2025-03-09T00:00:00.000000000",
          "2025-03-16T00:00:00.000000000",
          "2025-03-23T00:00:00.000000000"
         ],
         "y": {
          "bdata": "q8/VVuzrcECjEtTcBOxwQJtV0mId7HBA7VPQ6DXscEBnOM5uTuxwQOEczPRm7HBAYlfJen/scEAFj8cAmOxwQKnGxYaw7HBAVs7DDMnscEAE1sGS4exwQG2HwBj67HBABIq/nhLtcECbjL4kK+1wQEf4vapD7XBAc6W8MFztcECgUru2dO1wQPzIujyN7XBAWD+6wqXtcEBOC7lIvu1wQBgTt87W7XBA4xq1VO/tcEDVkbPaB+5wQDnGsmAg7nBAnvqx5jjucEAiiLFsUe5wQKUVsfJp7nBAmRixeILucEDlirD+mu5wQDL9r4Sz7nBAk26uCszucECAN62Q5O5wQGwArBb97nBADpOrnBXvcECxJasiLu9wQGJLqqhG73BAyHKoLl/vcEAtmqa0d+9wQH5IpDqQ73BA096hwKjvcEAndZ9Gwe9wQPE/nczZ73BAugqbUvLvcECE1ZjYCvBwQE6gll4j8HBAGGuU5DvwcEDhNZJqVPBwQKsAkPBs8HBAdMuNdoXwcEA/lov8nfBwQAhhiYK28HBA0iuHCM/wcECb9oSO5/BwQGbBghQA8XBAL4yAmhjxcED5Vn4gMfFwQMIhfKZJ8XBAjex5LGLxcEBWt3eyevFwQCCCdTiT8XBA6UxzvqvxcEC0F3FExPFwQH3ibsrc8XBAR61sUPXxcEA=",
          "dtype": "f8"
         }
        }
       ],
       "layout": {
        "legend": {
         "tracegroupgap": 0
        },
        "margin": {
         "t": 60
        },
        "template": {
         "data": {
          "bar": [
           {
            "error_x": {
             "color": "#2a3f5f"
            },
            "error_y": {
             "color": "#2a3f5f"
            },
            "marker": {
             "line": {
              "color": "#E5ECF6",
              "width": 0.5
             },
             "pattern": {
              "fillmode": "overlay",
              "size": 10,
              "solidity": 0.2
             }
            },
            "type": "bar"
           }
          ],
          "barpolar": [
           {
            "marker": {
             "line": {
              "color": "#E5ECF6",
              "width": 0.5
             },
             "pattern": {
              "fillmode": "overlay",
              "size": 10,
              "solidity": 0.2
             }
            },
            "type": "barpolar"
           }
          ],
          "carpet": [
           {
            "aaxis": {
             "endlinecolor": "#2a3f5f",
             "gridcolor": "white",
             "linecolor": "white",
             "minorgridcolor": "white",
             "startlinecolor": "#2a3f5f"
            },
            "baxis": {
             "endlinecolor": "#2a3f5f",
             "gridcolor": "white",
             "linecolor": "white",
             "minorgridcolor": "white",
             "startlinecolor": "#2a3f5f"
            },
            "type": "carpet"
           }
          ],
          "choropleth": [
           {
            "colorbar": {
             "outlinewidth": 0,
             "ticks": ""
            },
            "type": "choropleth"
           }
          ],
          "contour": [
           {
            "colorbar": {
             "outlinewidth": 0,
             "ticks": ""
            },
            "colorscale": [
             [
              0,
              "#0d0887"
             ],
             [
              0.1111111111111111,
              "#46039f"
             ],
             [
              0.2222222222222222,
              "#7201a8"
             ],
             [
              0.3333333333333333,
              "#9c179e"
             ],
             [
              0.4444444444444444,
              "#bd3786"
             ],
             [
              0.5555555555555556,
              "#d8576b"
             ],
             [
              0.6666666666666666,
              "#ed7953"
             ],
             [
              0.7777777777777778,
              "#fb9f3a"
             ],
             [
              0.8888888888888888,
              "#fdca26"
             ],
             [
              1,
              "#f0f921"
             ]
            ],
            "type": "contour"
           }
          ],
          "contourcarpet": [
           {
            "colorbar": {
             "outlinewidth": 0,
             "ticks": ""
            },
            "type": "contourcarpet"
           }
          ],
          "heatmap": [
           {
            "colorbar": {
             "outlinewidth": 0,
             "ticks": ""
            },
            "colorscale": [
             [
              0,
              "#0d0887"
             ],
             [
              0.1111111111111111,
              "#46039f"
             ],
             [
              0.2222222222222222,
              "#7201a8"
             ],
             [
              0.3333333333333333,
              "#9c179e"
             ],
             [
              0.4444444444444444,
              "#bd3786"
             ],
             [
              0.5555555555555556,
              "#d8576b"
             ],
             [
              0.6666666666666666,
              "#ed7953"
             ],
             [
              0.7777777777777778,
              "#fb9f3a"
             ],
             [
              0.8888888888888888,
              "#fdca26"
             ],
             [
              1,
              "#f0f921"
             ]
            ],
            "type": "heatmap"
           }
          ],
          "histogram": [
           {
            "marker": {
             "pattern": {
              "fillmode": "overlay",
              "size": 10,
              "solidity": 0.2
             }
            },
            "type": "histogram"
           }
          ],
          "histogram2d": [
           {
            "colorbar": {
             "outlinewidth": 0,
             "ticks": ""
            },
            "colorscale": [
             [
              0,
              "#0d0887"
             ],
             [
              0.1111111111111111,
              "#46039f"
             ],
             [
              0.2222222222222222,
              "#7201a8"
             ],
             [
              0.3333333333333333,
              "#9c179e"
             ],
             [
              0.4444444444444444,
              "#bd3786"
             ],
             [
              0.5555555555555556,
              "#d8576b"
             ],
             [
              0.6666666666666666,
              "#ed7953"
             ],
             [
              0.7777777777777778,
              "#fb9f3a"
             ],
             [
              0.8888888888888888,
              "#fdca26"
             ],
             [
              1,
              "#f0f921"
             ]
            ],
            "type": "histogram2d"
           }
          ],
          "histogram2dcontour": [
           {
            "colorbar": {
             "outlinewidth": 0,
             "ticks": ""
            },
            "colorscale": [
             [
              0,
              "#0d0887"
             ],
             [
              0.1111111111111111,
              "#46039f"
             ],
             [
              0.2222222222222222,
              "#7201a8"
             ],
             [
              0.3333333333333333,
              "#9c179e"
             ],
             [
              0.4444444444444444,
              "#bd3786"
             ],
             [
              0.5555555555555556,
              "#d8576b"
             ],
             [
              0.6666666666666666,
              "#ed7953"
             ],
             [
              0.7777777777777778,
              "#fb9f3a"
             ],
             [
              0.8888888888888888,
              "#fdca26"
             ],
             [
              1,
              "#f0f921"
             ]
            ],
            "type": "histogram2dcontour"
           }
          ],
          "mesh3d": [
           {
            "colorbar": {
             "outlinewidth": 0,
             "ticks": ""
            },
            "type": "mesh3d"
           }
          ],
          "parcoords": [
           {
            "line": {
             "colorbar": {
              "outlinewidth": 0,
              "ticks": ""
             }
            },
            "type": "parcoords"
           }
          ],
          "pie": [
           {
            "automargin": true,
            "type": "pie"
           }
          ],
          "scatter": [
           {
            "fillpattern": {
             "fillmode": "overlay",
             "size": 10,
             "solidity": 0.2
            },
            "type": "scatter"
           }
          ],
          "scatter3d": [
           {
            "line": {
             "colorbar": {
              "outlinewidth": 0,
              "ticks": ""
             }
            },
            "marker": {
             "colorbar": {
              "outlinewidth": 0,
              "ticks": ""
             }
            },
            "type": "scatter3d"
           }
          ],
          "scattercarpet": [
           {
            "marker": {
             "colorbar": {
              "outlinewidth": 0,
              "ticks": ""
             }
            },
            "type": "scattercarpet"
           }
          ],
          "scattergeo": [
           {
            "marker": {
             "colorbar": {
              "outlinewidth": 0,
              "ticks": ""
             }
            },
            "type": "scattergeo"
           }
          ],
          "scattergl": [
           {
            "marker": {
             "colorbar": {
              "outlinewidth": 0,
              "ticks": ""
             }
            },
            "type": "scattergl"
           }
          ],
          "scattermap": [
           {
            "marker": {
             "colorbar": {
              "outlinewidth": 0,
              "ticks": ""
             }
            },
            "type": "scattermap"
           }
          ],
          "scattermapbox": [
           {
            "marker": {
             "colorbar": {
              "outlinewidth": 0,
              "ticks": ""
             }
            },
            "type": "scattermapbox"
           }
          ],
          "scatterpolar": [
           {
            "marker": {
             "colorbar": {
              "outlinewidth": 0,
              "ticks": ""
             }
            },
            "type": "scatterpolar"
           }
          ],
          "scatterpolargl": [
           {
            "marker": {
             "colorbar": {
              "outlinewidth": 0,
              "ticks": ""
             }
            },
            "type": "scatterpolargl"
           }
          ],
          "scatterternary": [
           {
            "marker": {
             "colorbar": {
              "outlinewidth": 0,
              "ticks": ""
             }
            },
            "type": "scatterternary"
           }
          ],
          "surface": [
           {
            "colorbar": {
             "outlinewidth": 0,
             "ticks": ""
            },
            "colorscale": [
             [
              0,
              "#0d0887"
             ],
             [
              0.1111111111111111,
              "#46039f"
             ],
             [
              0.2222222222222222,
              "#7201a8"
             ],
             [
              0.3333333333333333,
              "#9c179e"
             ],
             [
              0.4444444444444444,
              "#bd3786"
             ],
             [
              0.5555555555555556,
              "#d8576b"
             ],
             [
              0.6666666666666666,
              "#ed7953"
             ],
             [
              0.7777777777777778,
              "#fb9f3a"
             ],
             [
              0.8888888888888888,
              "#fdca26"
             ],
             [
              1,
              "#f0f921"
             ]
            ],
            "type": "surface"
           }
          ],
          "table": [
           {
            "cells": {
             "fill": {
              "color": "#EBF0F8"
             },
             "line": {
              "color": "white"
             }
            },
            "header": {
             "fill": {
              "color": "#C8D4E3"
             },
             "line": {
              "color": "white"
             }
            },
            "type": "table"
           }
          ]
         },
         "layout": {
          "annotationdefaults": {
           "arrowcolor": "#2a3f5f",
           "arrowhead": 0,
           "arrowwidth": 1
          },
          "autotypenumbers": "strict",
          "coloraxis": {
           "colorbar": {
            "outlinewidth": 0,
            "ticks": ""
           }
          },
          "colorscale": {
           "diverging": [
            [
             0,
             "#8e0152"
            ],
            [
             0.1,
             "#c51b7d"
            ],
            [
             0.2,
             "#de77ae"
            ],
            [
             0.3,
             "#f1b6da"
            ],
            [
             0.4,
             "#fde0ef"
            ],
            [
             0.5,
             "#f7f7f7"
            ],
            [
             0.6,
             "#e6f5d0"
            ],
            [
             0.7,
             "#b8e186"
            ],
            [
             0.8,
             "#7fbc41"
            ],
            [
             0.9,
             "#4d9221"
            ],
            [
             1,
             "#276419"
            ]
           ],
           "sequential": [
            [
             0,
             "#0d0887"
            ],
            [
             0.1111111111111111,
             "#46039f"
            ],
            [
             0.2222222222222222,
             "#7201a8"
            ],
            [
             0.3333333333333333,
             "#9c179e"
            ],
            [
             0.4444444444444444,
             "#bd3786"
            ],
            [
             0.5555555555555556,
             "#d8576b"
            ],
            [
             0.6666666666666666,
             "#ed7953"
            ],
            [
             0.7777777777777778,
             "#fb9f3a"
            ],
            [
             0.8888888888888888,
             "#fdca26"
            ],
            [
             1,
             "#f0f921"
            ]
           ],
           "sequentialminus": [
            [
             0,
             "#0d0887"
            ],
            [
             0.1111111111111111,
             "#46039f"
            ],
            [
             0.2222222222222222,
             "#7201a8"
            ],
            [
             0.3333333333333333,
             "#9c179e"
            ],
            [
             0.4444444444444444,
             "#bd3786"
            ],
            [
             0.5555555555555556,
             "#d8576b"
            ],
            [
             0.6666666666666666,
             "#ed7953"
            ],
            [
             0.7777777777777778,
             "#fb9f3a"
            ],
            [
             0.8888888888888888,
             "#fdca26"
            ],
            [
             1,
             "#f0f921"
            ]
           ]
          },
          "colorway": [
           "#636efa",
           "#EF553B",
           "#00cc96",
           "#ab63fa",
           "#FFA15A",
           "#19d3f3",
           "#FF6692",
           "#B6E880",
           "#FF97FF",
           "#FECB52"
          ],
          "font": {
           "color": "#2a3f5f"
          },
          "geo": {
           "bgcolor": "white",
           "lakecolor": "white",
           "landcolor": "#E5ECF6",
           "showlakes": true,
           "showland": true,
           "subunitcolor": "white"
          },
          "hoverlabel": {
           "align": "left"
          },
          "hovermode": "closest",
          "mapbox": {
           "style": "light"
          },
          "paper_bgcolor": "white",
          "plot_bgcolor": "#E5ECF6",
          "polar": {
           "angularaxis": {
            "gridcolor": "white",
            "linecolor": "white",
            "ticks": ""
           },
           "bgcolor": "#E5ECF6",
           "radialaxis": {
            "gridcolor": "white",
            "linecolor": "white",
            "ticks": ""
           }
          },
          "scene": {
           "xaxis": {
            "backgroundcolor": "#E5ECF6",
            "gridcolor": "white",
            "gridwidth": 2,
            "linecolor": "white",
            "showbackground": true,
            "ticks": "",
            "zerolinecolor": "white"
           },
           "yaxis": {
            "backgroundcolor": "#E5ECF6",
            "gridcolor": "white",
            "gridwidth": 2,
            "linecolor": "white",
            "showbackground": true,
            "ticks": "",
            "zerolinecolor": "white"
           },
           "zaxis": {
            "backgroundcolor": "#E5ECF6",
            "gridcolor": "white",
            "gridwidth": 2,
            "linecolor": "white",
            "showbackground": true,
            "ticks": "",
            "zerolinecolor": "white"
           }
          },
          "shapedefaults": {
           "line": {
            "color": "#2a3f5f"
           }
          },
          "ternary": {
           "aaxis": {
            "gridcolor": "white",
            "linecolor": "white",
            "ticks": ""
           },
           "baxis": {
            "gridcolor": "white",
            "linecolor": "white",
            "ticks": ""
           },
           "bgcolor": "#E5ECF6",
           "caxis": {
            "gridcolor": "white",
            "linecolor": "white",
            "ticks": ""
           }
          },
          "title": {
           "x": 0.05
          },
          "xaxis": {
           "automargin": true,
           "gridcolor": "white",
           "linecolor": "white",
           "ticks": "",
           "title": {
            "standoff": 15
           },
           "zerolinecolor": "white",
           "zerolinewidth": 2
          },
          "yaxis": {
           "automargin": true,
           "gridcolor": "white",
           "linecolor": "white",
           "ticks": "",
           "title": {
            "standoff": 15
           },
           "zerolinecolor": "white",
           "zerolinewidth": 2
          }
         }
        },
        "title": {
         "text": "Actual vs Forecasted Sales (Media)"
        },
        "xaxis": {
         "anchor": "y",
         "domain": [
          0,
          1
         ],
         "title": {
          "text": "Date"
         }
        },
        "yaxis": {
         "anchor": "x",
         "domain": [
          0,
          1
         ],
         "title": {
          "text": "Units"
         }
        }
       }
      }
     },
     "metadata": {},
     "output_type": "display_data"
    },
    {
     "data": {
      "application/vnd.plotly.v1+json": {
       "config": {
        "plotlyServerURL": "https://plot.ly"
       },
       "data": [
        {
         "hovertemplate": "variable=yhat<br>Date=%{x}<br>Units=%{y}<extra></extra>",
         "legendgroup": "yhat",
         "line": {
          "color": "#636efa",
          "dash": "solid"
         },
         "marker": {
          "symbol": "circle"
         },
         "mode": "lines",
         "name": "yhat",
         "orientation": "v",
         "showlegend": true,
         "type": "scatter",
         "x": [
          "2025-01-05T00:00:00.000000000",
          "2025-01-12T00:00:00.000000000",
          "2025-01-19T00:00:00.000000000",
          "2025-01-26T00:00:00.000000000",
          "2025-02-02T00:00:00.000000000",
          "2025-02-09T00:00:00.000000000",
          "2025-02-16T00:00:00.000000000",
          "2025-02-23T00:00:00.000000000",
          "2025-03-02T00:00:00.000000000",
          "2025-03-09T00:00:00.000000000",
          "2025-03-16T00:00:00.000000000",
          "2025-03-23T00:00:00.000000000"
         ],
         "xaxis": "x",
         "y": {
          "bdata": "m/aEjufwcEBmwYIUAPFwQC+MgJoY8XBA+VZ+IDHxcEDCIXymSfFwQI3seSxi8XBAVrd3snrxcEAggnU4k/FwQOlMc76r8XBAtBdxRMTxcEB94m7K3PFwQEetbFD18XBA",
          "dtype": "f8"
         },
         "yaxis": "y"
        },
        {
         "hovertemplate": "variable=safety_stock<br>Date=%{x}<br>Units=%{y}<extra></extra>",
         "legendgroup": "safety_stock",
         "line": {
          "color": "#EF553B",
          "dash": "solid"
         },
         "marker": {
          "symbol": "circle"
         },
         "mode": "lines",
         "name": "safety_stock",
         "orientation": "v",
         "showlegend": true,
         "type": "scatter",
         "x": [
          "2025-01-05T00:00:00.000000000",
          "2025-01-12T00:00:00.000000000",
          "2025-01-19T00:00:00.000000000",
          "2025-01-26T00:00:00.000000000",
          "2025-02-02T00:00:00.000000000",
          "2025-02-09T00:00:00.000000000",
          "2025-02-16T00:00:00.000000000",
          "2025-02-23T00:00:00.000000000",
          "2025-03-02T00:00:00.000000000",
          "2025-03-09T00:00:00.000000000",
          "2025-03-16T00:00:00.000000000",
          "2025-03-23T00:00:00.000000000"
         ],
         "xaxis": "x",
         "y": {
          "bdata": "/4GysHB7g0A1K2PkjHuDQGnUExipe4NAnn3ES8V7g0DSJnV/4XuDQAjQJbP9e4NAPHnW5hl8g0BxIocaNnyDQKXLN05SfINA23TogW58g0APHpm1inyDQETHSemmfINA",
          "dtype": "f8"
         },
         "yaxis": "y"
        }
       ],
       "layout": {
        "legend": {
         "title": {
          "text": "variable"
         },
         "tracegroupgap": 0
        },
        "template": {
         "data": {
          "bar": [
           {
            "error_x": {
             "color": "#2a3f5f"
            },
            "error_y": {
             "color": "#2a3f5f"
            },
            "marker": {
             "line": {
              "color": "#E5ECF6",
              "width": 0.5
             },
             "pattern": {
              "fillmode": "overlay",
              "size": 10,
              "solidity": 0.2
             }
            },
            "type": "bar"
           }
          ],
          "barpolar": [
           {
            "marker": {
             "line": {
              "color": "#E5ECF6",
              "width": 0.5
             },
             "pattern": {
              "fillmode": "overlay",
              "size": 10,
              "solidity": 0.2
             }
            },
            "type": "barpolar"
           }
          ],
          "carpet": [
           {
            "aaxis": {
             "endlinecolor": "#2a3f5f",
             "gridcolor": "white",
             "linecolor": "white",
             "minorgridcolor": "white",
             "startlinecolor": "#2a3f5f"
            },
            "baxis": {
             "endlinecolor": "#2a3f5f",
             "gridcolor": "white",
             "linecolor": "white",
             "minorgridcolor": "white",
             "startlinecolor": "#2a3f5f"
            },
            "type": "carpet"
           }
          ],
          "choropleth": [
           {
            "colorbar": {
             "outlinewidth": 0,
             "ticks": ""
            },
            "type": "choropleth"
           }
          ],
          "contour": [
           {
            "colorbar": {
             "outlinewidth": 0,
             "ticks": ""
            },
            "colorscale": [
             [
              0,
              "#0d0887"
             ],
             [
              0.1111111111111111,
              "#46039f"
             ],
             [
              0.2222222222222222,
              "#7201a8"
             ],
             [
              0.3333333333333333,
              "#9c179e"
             ],
             [
              0.4444444444444444,
              "#bd3786"
             ],
             [
              0.5555555555555556,
              "#d8576b"
             ],
             [
              0.6666666666666666,
              "#ed7953"
             ],
             [
              0.7777777777777778,
              "#fb9f3a"
             ],
             [
              0.8888888888888888,
              "#fdca26"
             ],
             [
              1,
              "#f0f921"
             ]
            ],
            "type": "contour"
           }
          ],
          "contourcarpet": [
           {
            "colorbar": {
             "outlinewidth": 0,
             "ticks": ""
            },
            "type": "contourcarpet"
           }
          ],
          "heatmap": [
           {
            "colorbar": {
             "outlinewidth": 0,
             "ticks": ""
            },
            "colorscale": [
             [
              0,
              "#0d0887"
             ],
             [
              0.1111111111111111,
              "#46039f"
             ],
             [
              0.2222222222222222,
              "#7201a8"
             ],
             [
              0.3333333333333333,
              "#9c179e"
             ],
             [
              0.4444444444444444,
              "#bd3786"
             ],
             [
              0.5555555555555556,
              "#d8576b"
             ],
             [
              0.6666666666666666,
              "#ed7953"
             ],
             [
              0.7777777777777778,
              "#fb9f3a"
             ],
             [
              0.8888888888888888,
              "#fdca26"
             ],
             [
              1,
              "#f0f921"
             ]
            ],
            "type": "heatmap"
           }
          ],
          "histogram": [
           {
            "marker": {
             "pattern": {
              "fillmode": "overlay",
              "size": 10,
              "solidity": 0.2
             }
            },
            "type": "histogram"
           }
          ],
          "histogram2d": [
           {
            "colorbar": {
             "outlinewidth": 0,
             "ticks": ""
            },
            "colorscale": [
             [
              0,
              "#0d0887"
             ],
             [
              0.1111111111111111,
              "#46039f"
             ],
             [
              0.2222222222222222,
              "#7201a8"
             ],
             [
              0.3333333333333333,
              "#9c179e"
             ],
             [
              0.4444444444444444,
              "#bd3786"
             ],
             [
              0.5555555555555556,
              "#d8576b"
             ],
             [
              0.6666666666666666,
              "#ed7953"
             ],
             [
              0.7777777777777778,
              "#fb9f3a"
             ],
             [
              0.8888888888888888,
              "#fdca26"
             ],
             [
              1,
              "#f0f921"
             ]
            ],
            "type": "histogram2d"
           }
          ],
          "histogram2dcontour": [
           {
            "colorbar": {
             "outlinewidth": 0,
             "ticks": ""
            },
            "colorscale": [
             [
              0,
              "#0d0887"
             ],
             [
              0.1111111111111111,
              "#46039f"
             ],
             [
              0.2222222222222222,
              "#7201a8"
             ],
             [
              0.3333333333333333,
              "#9c179e"
             ],
             [
              0.4444444444444444,
              "#bd3786"
             ],
             [
              0.5555555555555556,
              "#d8576b"
             ],
             [
              0.6666666666666666,
              "#ed7953"
             ],
             [
              0.7777777777777778,
              "#fb9f3a"
             ],
             [
              0.8888888888888888,
              "#fdca26"
             ],
             [
              1,
              "#f0f921"
             ]
            ],
            "type": "histogram2dcontour"
           }
          ],
          "mesh3d": [
           {
            "colorbar": {
             "outlinewidth": 0,
             "ticks": ""
            },
            "type": "mesh3d"
           }
          ],
          "parcoords": [
           {
            "line": {
             "colorbar": {
              "outlinewidth": 0,
              "ticks": ""
             }
            },
            "type": "parcoords"
           }
          ],
          "pie": [
           {
            "automargin": true,
            "type": "pie"
           }
          ],
          "scatter": [
           {
            "fillpattern": {
             "fillmode": "overlay",
             "size": 10,
             "solidity": 0.2
            },
            "type": "scatter"
           }
          ],
          "scatter3d": [
           {
            "line": {
             "colorbar": {
              "outlinewidth": 0,
              "ticks": ""
             }
            },
            "marker": {
             "colorbar": {
              "outlinewidth": 0,
              "ticks": ""
             }
            },
            "type": "scatter3d"
           }
          ],
          "scattercarpet": [
           {
            "marker": {
             "colorbar": {
              "outlinewidth": 0,
              "ticks": ""
             }
            },
            "type": "scattercarpet"
           }
          ],
          "scattergeo": [
           {
            "marker": {
             "colorbar": {
              "outlinewidth": 0,
              "ticks": ""
             }
            },
            "type": "scattergeo"
           }
          ],
          "scattergl": [
           {
            "marker": {
             "colorbar": {
              "outlinewidth": 0,
              "ticks": ""
             }
            },
            "type": "scattergl"
           }
          ],
          "scattermap": [
           {
            "marker": {
             "colorbar": {
              "outlinewidth": 0,
              "ticks": ""
             }
            },
            "type": "scattermap"
           }
          ],
          "scattermapbox": [
           {
            "marker": {
             "colorbar": {
              "outlinewidth": 0,
              "ticks": ""
             }
            },
            "type": "scattermapbox"
           }
          ],
          "scatterpolar": [
           {
            "marker": {
             "colorbar": {
              "outlinewidth": 0,
              "ticks": ""
             }
            },
            "type": "scatterpolar"
           }
          ],
          "scatterpolargl": [
           {
            "marker": {
             "colorbar": {
              "outlinewidth": 0,
              "ticks": ""
             }
            },
            "type": "scatterpolargl"
           }
          ],
          "scatterternary": [
           {
            "marker": {
             "colorbar": {
              "outlinewidth": 0,
              "ticks": ""
             }
            },
            "type": "scatterternary"
           }
          ],
          "surface": [
           {
            "colorbar": {
             "outlinewidth": 0,
             "ticks": ""
            },
            "colorscale": [
             [
              0,
              "#0d0887"
             ],
             [
              0.1111111111111111,
              "#46039f"
             ],
             [
              0.2222222222222222,
              "#7201a8"
             ],
             [
              0.3333333333333333,
              "#9c179e"
             ],
             [
              0.4444444444444444,
              "#bd3786"
             ],
             [
              0.5555555555555556,
              "#d8576b"
             ],
             [
              0.6666666666666666,
              "#ed7953"
             ],
             [
              0.7777777777777778,
              "#fb9f3a"
             ],
             [
              0.8888888888888888,
              "#fdca26"
             ],
             [
              1,
              "#f0f921"
             ]
            ],
            "type": "surface"
           }
          ],
          "table": [
           {
            "cells": {
             "fill": {
              "color": "#EBF0F8"
             },
             "line": {
              "color": "white"
             }
            },
            "header": {
             "fill": {
              "color": "#C8D4E3"
             },
             "line": {
              "color": "white"
             }
            },
            "type": "table"
           }
          ]
         },
         "layout": {
          "annotationdefaults": {
           "arrowcolor": "#2a3f5f",
           "arrowhead": 0,
           "arrowwidth": 1
          },
          "autotypenumbers": "strict",
          "coloraxis": {
           "colorbar": {
            "outlinewidth": 0,
            "ticks": ""
           }
          },
          "colorscale": {
           "diverging": [
            [
             0,
             "#8e0152"
            ],
            [
             0.1,
             "#c51b7d"
            ],
            [
             0.2,
             "#de77ae"
            ],
            [
             0.3,
             "#f1b6da"
            ],
            [
             0.4,
             "#fde0ef"
            ],
            [
             0.5,
             "#f7f7f7"
            ],
            [
             0.6,
             "#e6f5d0"
            ],
            [
             0.7,
             "#b8e186"
            ],
            [
             0.8,
             "#7fbc41"
            ],
            [
             0.9,
             "#4d9221"
            ],
            [
             1,
             "#276419"
            ]
           ],
           "sequential": [
            [
             0,
             "#0d0887"
            ],
            [
             0.1111111111111111,
             "#46039f"
            ],
            [
             0.2222222222222222,
             "#7201a8"
            ],
            [
             0.3333333333333333,
             "#9c179e"
            ],
            [
             0.4444444444444444,
             "#bd3786"
            ],
            [
             0.5555555555555556,
             "#d8576b"
            ],
            [
             0.6666666666666666,
             "#ed7953"
            ],
            [
             0.7777777777777778,
             "#fb9f3a"
            ],
            [
             0.8888888888888888,
             "#fdca26"
            ],
            [
             1,
             "#f0f921"
            ]
           ],
           "sequentialminus": [
            [
             0,
             "#0d0887"
            ],
            [
             0.1111111111111111,
             "#46039f"
            ],
            [
             0.2222222222222222,
             "#7201a8"
            ],
            [
             0.3333333333333333,
             "#9c179e"
            ],
            [
             0.4444444444444444,
             "#bd3786"
            ],
            [
             0.5555555555555556,
             "#d8576b"
            ],
            [
             0.6666666666666666,
             "#ed7953"
            ],
            [
             0.7777777777777778,
             "#fb9f3a"
            ],
            [
             0.8888888888888888,
             "#fdca26"
            ],
            [
             1,
             "#f0f921"
            ]
           ]
          },
          "colorway": [
           "#636efa",
           "#EF553B",
           "#00cc96",
           "#ab63fa",
           "#FFA15A",
           "#19d3f3",
           "#FF6692",
           "#B6E880",
           "#FF97FF",
           "#FECB52"
          ],
          "font": {
           "color": "#2a3f5f"
          },
          "geo": {
           "bgcolor": "white",
           "lakecolor": "white",
           "landcolor": "#E5ECF6",
           "showlakes": true,
           "showland": true,
           "subunitcolor": "white"
          },
          "hoverlabel": {
           "align": "left"
          },
          "hovermode": "closest",
          "mapbox": {
           "style": "light"
          },
          "paper_bgcolor": "white",
          "plot_bgcolor": "#E5ECF6",
          "polar": {
           "angularaxis": {
            "gridcolor": "white",
            "linecolor": "white",
            "ticks": ""
           },
           "bgcolor": "#E5ECF6",
           "radialaxis": {
            "gridcolor": "white",
            "linecolor": "white",
            "ticks": ""
           }
          },
          "scene": {
           "xaxis": {
            "backgroundcolor": "#E5ECF6",
            "gridcolor": "white",
            "gridwidth": 2,
            "linecolor": "white",
            "showbackground": true,
            "ticks": "",
            "zerolinecolor": "white"
           },
           "yaxis": {
            "backgroundcolor": "#E5ECF6",
            "gridcolor": "white",
            "gridwidth": 2,
            "linecolor": "white",
            "showbackground": true,
            "ticks": "",
            "zerolinecolor": "white"
           },
           "zaxis": {
            "backgroundcolor": "#E5ECF6",
            "gridcolor": "white",
            "gridwidth": 2,
            "linecolor": "white",
            "showbackground": true,
            "ticks": "",
            "zerolinecolor": "white"
           }
          },
          "shapedefaults": {
           "line": {
            "color": "#2a3f5f"
           }
          },
          "ternary": {
           "aaxis": {
            "gridcolor": "white",
            "linecolor": "white",
            "ticks": ""
           },
           "baxis": {
            "gridcolor": "white",
            "linecolor": "white",
            "ticks": ""
           },
           "bgcolor": "#E5ECF6",
           "caxis": {
            "gridcolor": "white",
            "linecolor": "white",
            "ticks": ""
           }
          },
          "title": {
           "x": 0.05
          },
          "xaxis": {
           "automargin": true,
           "gridcolor": "white",
           "linecolor": "white",
           "ticks": "",
           "title": {
            "standoff": 15
           },
           "zerolinecolor": "white",
           "zerolinewidth": 2
          },
          "yaxis": {
           "automargin": true,
           "gridcolor": "white",
           "linecolor": "white",
           "ticks": "",
           "title": {
            "standoff": 15
           },
           "zerolinecolor": "white",
           "zerolinewidth": 2
          }
         }
        },
        "title": {
         "text": "Forecasted Demand vs Safety Stock (Media)"
        },
        "xaxis": {
         "anchor": "y",
         "domain": [
          0,
          1
         ],
         "title": {
          "text": "Date"
         }
        },
        "yaxis": {
         "anchor": "x",
         "domain": [
          0,
          1
         ],
         "title": {
          "text": "Units"
         }
        }
       }
      }
     },
     "metadata": {},
     "output_type": "display_data"
    }
   ],
   "source": [
    "# Prepare Media data for Prophet\n",
    "df = synthetic_data[synthetic_data['material']=='Media'][['date','demand_units']].rename(columns={'date':'ds','demand_units':'y'})\n",
    "model = Prophet()\n",
    "model.fit(df)\n",
    "future = model.make_future_dataframe(periods=12, freq='W')\n",
    "forecast = model.predict(future)\n",
    "\n",
    "# Visualize actual vs forecasted sales\n",
    "fig = px.line()\n",
    "fig.add_scatter(x=df['ds'], y=df['y'], mode='lines', name='Actual Sales')\n",
    "fig.add_scatter(x=forecast['ds'], y=forecast['yhat'], mode='lines', name='Forecast')\n",
    "fig.update_layout(title='Actual vs Forecasted Sales (Media)', xaxis_title='Date', yaxis_title='Units')\n",
    "fig.show()\n",
    "\n",
    "# Forecasted Demand vs Safety Stock (last 12 weeks, Media)\n",
    "forecasted_demand = forecast[['ds','yhat']].tail(12)\n",
    "forecasted_demand['safety_stock'] = forecasted_demand['yhat'] * safety_stock_multiplier\n",
    "fig = px.line(forecasted_demand, x='ds', y=['yhat','safety_stock'],\n",
    "              labels={'ds':'Date', 'value':'Units'},\n",
    "              title='Forecasted Demand vs Safety Stock (Media)')\n",
    "fig.show()"
   ]
  },
  {
   "cell_type": "markdown",
   "id": "858ecedd",
   "metadata": {},
   "source": [
    "## 10. Optimized Inventory Visualization\n",
    "\n",
    "Visualize optimized inventory levels across materials and time using interactive line or bar charts."
   ]
  },
  {
   "cell_type": "code",
   "execution_count": 14,
   "id": "5490da8b",
   "metadata": {},
   "outputs": [
    {
     "data": {
      "application/vnd.plotly.v1+json": {
       "config": {
        "plotlyServerURL": "https://plot.ly"
       },
       "data": [
        {
         "hovertemplate": "material=Media<br>date=%{x}<br>optimized_stock=%{y}<extra></extra>",
         "legendgroup": "Media",
         "line": {
          "color": "#636efa",
          "dash": "solid"
         },
         "marker": {
          "symbol": "circle"
         },
         "mode": "lines",
         "name": "Media",
         "orientation": "v",
         "showlegend": true,
         "type": "scatter",
         "x": [
          "2024-01-07T00:00:00.000000000",
          "2024-01-14T00:00:00.000000000",
          "2024-01-21T00:00:00.000000000",
          "2024-01-28T00:00:00.000000000",
          "2024-02-04T00:00:00.000000000",
          "2024-02-11T00:00:00.000000000",
          "2024-02-18T00:00:00.000000000",
          "2024-02-25T00:00:00.000000000",
          "2024-03-03T00:00:00.000000000",
          "2024-03-10T00:00:00.000000000",
          "2024-03-17T00:00:00.000000000",
          "2024-03-24T00:00:00.000000000",
          "2024-03-31T00:00:00.000000000",
          "2024-04-07T00:00:00.000000000",
          "2024-04-14T00:00:00.000000000",
          "2024-04-21T00:00:00.000000000",
          "2024-04-28T00:00:00.000000000",
          "2024-05-05T00:00:00.000000000",
          "2024-05-12T00:00:00.000000000",
          "2024-05-19T00:00:00.000000000",
          "2024-05-26T00:00:00.000000000",
          "2024-06-02T00:00:00.000000000",
          "2024-06-09T00:00:00.000000000",
          "2024-06-16T00:00:00.000000000",
          "2024-06-23T00:00:00.000000000",
          "2024-06-30T00:00:00.000000000",
          "2024-07-07T00:00:00.000000000",
          "2024-07-14T00:00:00.000000000",
          "2024-07-21T00:00:00.000000000",
          "2024-07-28T00:00:00.000000000",
          "2024-08-04T00:00:00.000000000",
          "2024-08-11T00:00:00.000000000",
          "2024-08-18T00:00:00.000000000",
          "2024-08-25T00:00:00.000000000",
          "2024-09-01T00:00:00.000000000",
          "2024-09-08T00:00:00.000000000",
          "2024-09-15T00:00:00.000000000",
          "2024-09-22T00:00:00.000000000",
          "2024-09-29T00:00:00.000000000",
          "2024-10-06T00:00:00.000000000",
          "2024-10-13T00:00:00.000000000",
          "2024-10-20T00:00:00.000000000",
          "2024-10-27T00:00:00.000000000",
          "2024-11-03T00:00:00.000000000",
          "2024-11-10T00:00:00.000000000",
          "2024-11-17T00:00:00.000000000",
          "2024-11-24T00:00:00.000000000",
          "2024-12-01T00:00:00.000000000",
          "2024-12-08T00:00:00.000000000",
          "2024-12-15T00:00:00.000000000",
          "2024-12-22T00:00:00.000000000",
          "2024-12-29T00:00:00.000000000"
         ],
         "xaxis": "x",
         "y": {
          "bdata": "AAAAAACAbEAAAAAAALyGQAAAAAAAAAAAAAAAAACAX0AAAAAAAEBtQAAAAAAAAAAAAAAAAAAAAAAAAAAAAEBaQAAAAAAAAAAAAAAAAABAakAAAAAAAEBfQAAAAAAAQGBAAAAAAAAAAAAAAAAAAMiDQAAAAAAAAGVAAAAAAAAALEAAAAAAAABHQAAAAAAAAAAAAAAAAAAAREAAAAAAAMiAQAAAAAAAyHxAAAAAAAAAAAAAAAAAAABPQAAAAAAAAAAAAAAAAABkhEAAAAAAAAAAAAAAAAAAHIdAAAAAAACAXkAAAAAAALBzQAAAAAAABIFAAAAAAAAAAAAAAAAAAKBxQAAAAAAAwExAAAAAAACAWEAAAAAAAAAAAAAAAAAAQGRAAAAAAACIdEAAAAAAAAAAAAAAAAAAACRAAAAAAAAAAAAAAAAAADSHQAAAAAAAYHJAAAAAAAA0h0AAAAAAAAAAAAAAAAAAXINAAAAAAACAY0AAAAAAAAAAAAAAAAAATIFAAAAAAADgcEAAAAAAAAAAAAAAAAAAQGxAAAAAAAAAAAA=",
          "dtype": "f8"
         },
         "yaxis": "y"
        },
        {
         "hovertemplate": "material=Reagent<br>date=%{x}<br>optimized_stock=%{y}<extra></extra>",
         "legendgroup": "Reagent",
         "line": {
          "color": "#EF553B",
          "dash": "solid"
         },
         "marker": {
          "symbol": "circle"
         },
         "mode": "lines",
         "name": "Reagent",
         "orientation": "v",
         "showlegend": true,
         "type": "scatter",
         "x": [
          "2024-01-07T00:00:00.000000000",
          "2024-01-14T00:00:00.000000000",
          "2024-01-21T00:00:00.000000000",
          "2024-01-28T00:00:00.000000000",
          "2024-02-04T00:00:00.000000000",
          "2024-02-11T00:00:00.000000000",
          "2024-02-18T00:00:00.000000000",
          "2024-02-25T00:00:00.000000000",
          "2024-03-03T00:00:00.000000000",
          "2024-03-10T00:00:00.000000000",
          "2024-03-17T00:00:00.000000000",
          "2024-03-24T00:00:00.000000000",
          "2024-03-31T00:00:00.000000000",
          "2024-04-07T00:00:00.000000000",
          "2024-04-14T00:00:00.000000000",
          "2024-04-21T00:00:00.000000000",
          "2024-04-28T00:00:00.000000000",
          "2024-05-05T00:00:00.000000000",
          "2024-05-12T00:00:00.000000000",
          "2024-05-19T00:00:00.000000000",
          "2024-05-26T00:00:00.000000000",
          "2024-06-02T00:00:00.000000000",
          "2024-06-09T00:00:00.000000000",
          "2024-06-16T00:00:00.000000000",
          "2024-06-23T00:00:00.000000000",
          "2024-06-30T00:00:00.000000000",
          "2024-07-07T00:00:00.000000000",
          "2024-07-14T00:00:00.000000000",
          "2024-07-21T00:00:00.000000000",
          "2024-07-28T00:00:00.000000000",
          "2024-08-04T00:00:00.000000000",
          "2024-08-11T00:00:00.000000000",
          "2024-08-18T00:00:00.000000000",
          "2024-08-25T00:00:00.000000000",
          "2024-09-01T00:00:00.000000000",
          "2024-09-08T00:00:00.000000000",
          "2024-09-15T00:00:00.000000000",
          "2024-09-22T00:00:00.000000000",
          "2024-09-29T00:00:00.000000000",
          "2024-10-06T00:00:00.000000000",
          "2024-10-13T00:00:00.000000000",
          "2024-10-20T00:00:00.000000000",
          "2024-10-27T00:00:00.000000000",
          "2024-11-03T00:00:00.000000000",
          "2024-11-10T00:00:00.000000000",
          "2024-11-17T00:00:00.000000000",
          "2024-11-24T00:00:00.000000000",
          "2024-12-01T00:00:00.000000000",
          "2024-12-08T00:00:00.000000000",
          "2024-12-15T00:00:00.000000000",
          "2024-12-22T00:00:00.000000000",
          "2024-12-29T00:00:00.000000000"
         ],
         "xaxis": "x",
         "y": {
          "bdata": "AAAAAACgh0AAAAAAAAAAAAAAAAAAAAAAAAAAAABQi0AAAAAAAAArQAAAAAAA0IZAAAAAAAAAAAAAAAAAADCCQAAAAAAAoINAAAAAAACwiEAAAAAAAAAAAAAAAAAAMItAAAAAAAAALkAAAAAAAAAAAAAAAAAAAIpAAAAAAADQjkAAAAAAANCNQAAAAAAAkINAAAAAAAAAjkAAAAAAAAAAAAAAAAAA4H9AAAAAAAAAAAAAAAAAAFCNQAAAAAAAAAAAAAAAAAC4dUAAAAAAAFCLQAAAAAAAAAAAAAAAAABwi0AAAAAAAMBpQAAAAAAAYHNAAAAAAABQg0AAAAAAAHCGQAAAAAAAAAAAAAAAAAAwjEAAAAAAAAAAAAAAAAAAQGdAAAAAAABgekAAAAAAAAAAAAAAAAAA8I5AAAAAAADwg0AAAAAAABhwQAAAAAAAEIZAAAAAAAAYcEAAAAAAAAAAAAAAAAAAyHdAAAAAAADgfUAAAAAAAAAAAAAAAAAAAAAAAAAAAAAQgEAAAAAAAAAAAAAAAAAAMIhAAAAAAAAAikA=",
          "dtype": "f8"
         },
         "yaxis": "y"
        },
        {
         "hovertemplate": "material=Bioreactor<br>date=%{x}<br>optimized_stock=%{y}<extra></extra>",
         "legendgroup": "Bioreactor",
         "line": {
          "color": "#00cc96",
          "dash": "solid"
         },
         "marker": {
          "symbol": "circle"
         },
         "mode": "lines",
         "name": "Bioreactor",
         "orientation": "v",
         "showlegend": true,
         "type": "scatter",
         "x": [
          "2024-01-07T00:00:00.000000000",
          "2024-01-14T00:00:00.000000000",
          "2024-01-21T00:00:00.000000000",
          "2024-01-28T00:00:00.000000000",
          "2024-02-04T00:00:00.000000000",
          "2024-02-11T00:00:00.000000000",
          "2024-02-18T00:00:00.000000000",
          "2024-02-25T00:00:00.000000000",
          "2024-03-03T00:00:00.000000000",
          "2024-03-10T00:00:00.000000000",
          "2024-03-17T00:00:00.000000000",
          "2024-03-24T00:00:00.000000000",
          "2024-03-31T00:00:00.000000000",
          "2024-04-07T00:00:00.000000000",
          "2024-04-14T00:00:00.000000000",
          "2024-04-21T00:00:00.000000000",
          "2024-04-28T00:00:00.000000000",
          "2024-05-05T00:00:00.000000000",
          "2024-05-12T00:00:00.000000000",
          "2024-05-19T00:00:00.000000000",
          "2024-05-26T00:00:00.000000000",
          "2024-06-02T00:00:00.000000000",
          "2024-06-09T00:00:00.000000000",
          "2024-06-16T00:00:00.000000000",
          "2024-06-23T00:00:00.000000000",
          "2024-06-30T00:00:00.000000000",
          "2024-07-07T00:00:00.000000000",
          "2024-07-14T00:00:00.000000000",
          "2024-07-21T00:00:00.000000000",
          "2024-07-28T00:00:00.000000000",
          "2024-08-04T00:00:00.000000000",
          "2024-08-11T00:00:00.000000000",
          "2024-08-18T00:00:00.000000000",
          "2024-08-25T00:00:00.000000000",
          "2024-09-01T00:00:00.000000000",
          "2024-09-08T00:00:00.000000000",
          "2024-09-15T00:00:00.000000000",
          "2024-09-22T00:00:00.000000000",
          "2024-09-29T00:00:00.000000000",
          "2024-10-06T00:00:00.000000000",
          "2024-10-13T00:00:00.000000000",
          "2024-10-20T00:00:00.000000000",
          "2024-10-27T00:00:00.000000000",
          "2024-11-03T00:00:00.000000000",
          "2024-11-10T00:00:00.000000000",
          "2024-11-17T00:00:00.000000000",
          "2024-11-24T00:00:00.000000000",
          "2024-12-01T00:00:00.000000000",
          "2024-12-08T00:00:00.000000000",
          "2024-12-15T00:00:00.000000000",
          "2024-12-22T00:00:00.000000000",
          "2024-12-29T00:00:00.000000000"
         ],
         "xaxis": "x",
         "y": {
          "bdata": "AAAAAAAAMEAAAAAAAAhxQAAAAAAAQI9AAAAAAAAAAAAAAAAAAISHQAAAAAAA4HBAAAAAAABAj0AAAAAAACBsQAAAAAAAQHdAAAAAAAAAAAAAAAAAAFiLQAAAAAAAAAAAAAAAAADIjkAAAAAAAPB2QAAAAAAAAAAAAAAAAAAAAAAAAAAAAAAAAAAAAAAAYHdAAAAAAAAAAAAAAAAAAPB8QAAAAAAAgD1AAAAAAABAj0AAAAAAAAAAAAAAAAAAQI9AAAAAAAAAAAAAAAAAAIBfQAAAAAAASHBAAAAAAAAAAAAAAAAAACBsQAAAAAAAMGJAAAAAAADgd0AAAAAAAAAAAAAAAAAAdI1AAAAAAAAAAAAAAAAAAECPQAAAAAAAoGlAAAAAAABQbkAAAAAAAECPQAAAAAAAAAAAAAAAAACgdkAAAAAAAAAAAAAAAAAAAAAAAAAAAAAAAAAAAAAAAECPQAAAAAAAAAAAAAAAAABAakAAAAAAAECPQAAAAAAA6HtAAAAAAAAAa0AAAAAAAECPQAAAAAAAAAAAAAAAAAAAZUA=",
          "dtype": "f8"
         },
         "yaxis": "y"
        }
       ],
       "layout": {
        "legend": {
         "title": {
          "text": "material"
         },
         "tracegroupgap": 0
        },
        "template": {
         "data": {
          "bar": [
           {
            "error_x": {
             "color": "#2a3f5f"
            },
            "error_y": {
             "color": "#2a3f5f"
            },
            "marker": {
             "line": {
              "color": "#E5ECF6",
              "width": 0.5
             },
             "pattern": {
              "fillmode": "overlay",
              "size": 10,
              "solidity": 0.2
             }
            },
            "type": "bar"
           }
          ],
          "barpolar": [
           {
            "marker": {
             "line": {
              "color": "#E5ECF6",
              "width": 0.5
             },
             "pattern": {
              "fillmode": "overlay",
              "size": 10,
              "solidity": 0.2
             }
            },
            "type": "barpolar"
           }
          ],
          "carpet": [
           {
            "aaxis": {
             "endlinecolor": "#2a3f5f",
             "gridcolor": "white",
             "linecolor": "white",
             "minorgridcolor": "white",
             "startlinecolor": "#2a3f5f"
            },
            "baxis": {
             "endlinecolor": "#2a3f5f",
             "gridcolor": "white",
             "linecolor": "white",
             "minorgridcolor": "white",
             "startlinecolor": "#2a3f5f"
            },
            "type": "carpet"
           }
          ],
          "choropleth": [
           {
            "colorbar": {
             "outlinewidth": 0,
             "ticks": ""
            },
            "type": "choropleth"
           }
          ],
          "contour": [
           {
            "colorbar": {
             "outlinewidth": 0,
             "ticks": ""
            },
            "colorscale": [
             [
              0,
              "#0d0887"
             ],
             [
              0.1111111111111111,
              "#46039f"
             ],
             [
              0.2222222222222222,
              "#7201a8"
             ],
             [
              0.3333333333333333,
              "#9c179e"
             ],
             [
              0.4444444444444444,
              "#bd3786"
             ],
             [
              0.5555555555555556,
              "#d8576b"
             ],
             [
              0.6666666666666666,
              "#ed7953"
             ],
             [
              0.7777777777777778,
              "#fb9f3a"
             ],
             [
              0.8888888888888888,
              "#fdca26"
             ],
             [
              1,
              "#f0f921"
             ]
            ],
            "type": "contour"
           }
          ],
          "contourcarpet": [
           {
            "colorbar": {
             "outlinewidth": 0,
             "ticks": ""
            },
            "type": "contourcarpet"
           }
          ],
          "heatmap": [
           {
            "colorbar": {
             "outlinewidth": 0,
             "ticks": ""
            },
            "colorscale": [
             [
              0,
              "#0d0887"
             ],
             [
              0.1111111111111111,
              "#46039f"
             ],
             [
              0.2222222222222222,
              "#7201a8"
             ],
             [
              0.3333333333333333,
              "#9c179e"
             ],
             [
              0.4444444444444444,
              "#bd3786"
             ],
             [
              0.5555555555555556,
              "#d8576b"
             ],
             [
              0.6666666666666666,
              "#ed7953"
             ],
             [
              0.7777777777777778,
              "#fb9f3a"
             ],
             [
              0.8888888888888888,
              "#fdca26"
             ],
             [
              1,
              "#f0f921"
             ]
            ],
            "type": "heatmap"
           }
          ],
          "histogram": [
           {
            "marker": {
             "pattern": {
              "fillmode": "overlay",
              "size": 10,
              "solidity": 0.2
             }
            },
            "type": "histogram"
           }
          ],
          "histogram2d": [
           {
            "colorbar": {
             "outlinewidth": 0,
             "ticks": ""
            },
            "colorscale": [
             [
              0,
              "#0d0887"
             ],
             [
              0.1111111111111111,
              "#46039f"
             ],
             [
              0.2222222222222222,
              "#7201a8"
             ],
             [
              0.3333333333333333,
              "#9c179e"
             ],
             [
              0.4444444444444444,
              "#bd3786"
             ],
             [
              0.5555555555555556,
              "#d8576b"
             ],
             [
              0.6666666666666666,
              "#ed7953"
             ],
             [
              0.7777777777777778,
              "#fb9f3a"
             ],
             [
              0.8888888888888888,
              "#fdca26"
             ],
             [
              1,
              "#f0f921"
             ]
            ],
            "type": "histogram2d"
           }
          ],
          "histogram2dcontour": [
           {
            "colorbar": {
             "outlinewidth": 0,
             "ticks": ""
            },
            "colorscale": [
             [
              0,
              "#0d0887"
             ],
             [
              0.1111111111111111,
              "#46039f"
             ],
             [
              0.2222222222222222,
              "#7201a8"
             ],
             [
              0.3333333333333333,
              "#9c179e"
             ],
             [
              0.4444444444444444,
              "#bd3786"
             ],
             [
              0.5555555555555556,
              "#d8576b"
             ],
             [
              0.6666666666666666,
              "#ed7953"
             ],
             [
              0.7777777777777778,
              "#fb9f3a"
             ],
             [
              0.8888888888888888,
              "#fdca26"
             ],
             [
              1,
              "#f0f921"
             ]
            ],
            "type": "histogram2dcontour"
           }
          ],
          "mesh3d": [
           {
            "colorbar": {
             "outlinewidth": 0,
             "ticks": ""
            },
            "type": "mesh3d"
           }
          ],
          "parcoords": [
           {
            "line": {
             "colorbar": {
              "outlinewidth": 0,
              "ticks": ""
             }
            },
            "type": "parcoords"
           }
          ],
          "pie": [
           {
            "automargin": true,
            "type": "pie"
           }
          ],
          "scatter": [
           {
            "fillpattern": {
             "fillmode": "overlay",
             "size": 10,
             "solidity": 0.2
            },
            "type": "scatter"
           }
          ],
          "scatter3d": [
           {
            "line": {
             "colorbar": {
              "outlinewidth": 0,
              "ticks": ""
             }
            },
            "marker": {
             "colorbar": {
              "outlinewidth": 0,
              "ticks": ""
             }
            },
            "type": "scatter3d"
           }
          ],
          "scattercarpet": [
           {
            "marker": {
             "colorbar": {
              "outlinewidth": 0,
              "ticks": ""
             }
            },
            "type": "scattercarpet"
           }
          ],
          "scattergeo": [
           {
            "marker": {
             "colorbar": {
              "outlinewidth": 0,
              "ticks": ""
             }
            },
            "type": "scattergeo"
           }
          ],
          "scattergl": [
           {
            "marker": {
             "colorbar": {
              "outlinewidth": 0,
              "ticks": ""
             }
            },
            "type": "scattergl"
           }
          ],
          "scattermap": [
           {
            "marker": {
             "colorbar": {
              "outlinewidth": 0,
              "ticks": ""
             }
            },
            "type": "scattermap"
           }
          ],
          "scattermapbox": [
           {
            "marker": {
             "colorbar": {
              "outlinewidth": 0,
              "ticks": ""
             }
            },
            "type": "scattermapbox"
           }
          ],
          "scatterpolar": [
           {
            "marker": {
             "colorbar": {
              "outlinewidth": 0,
              "ticks": ""
             }
            },
            "type": "scatterpolar"
           }
          ],
          "scatterpolargl": [
           {
            "marker": {
             "colorbar": {
              "outlinewidth": 0,
              "ticks": ""
             }
            },
            "type": "scatterpolargl"
           }
          ],
          "scatterternary": [
           {
            "marker": {
             "colorbar": {
              "outlinewidth": 0,
              "ticks": ""
             }
            },
            "type": "scatterternary"
           }
          ],
          "surface": [
           {
            "colorbar": {
             "outlinewidth": 0,
             "ticks": ""
            },
            "colorscale": [
             [
              0,
              "#0d0887"
             ],
             [
              0.1111111111111111,
              "#46039f"
             ],
             [
              0.2222222222222222,
              "#7201a8"
             ],
             [
              0.3333333333333333,
              "#9c179e"
             ],
             [
              0.4444444444444444,
              "#bd3786"
             ],
             [
              0.5555555555555556,
              "#d8576b"
             ],
             [
              0.6666666666666666,
              "#ed7953"
             ],
             [
              0.7777777777777778,
              "#fb9f3a"
             ],
             [
              0.8888888888888888,
              "#fdca26"
             ],
             [
              1,
              "#f0f921"
             ]
            ],
            "type": "surface"
           }
          ],
          "table": [
           {
            "cells": {
             "fill": {
              "color": "#EBF0F8"
             },
             "line": {
              "color": "white"
             }
            },
            "header": {
             "fill": {
              "color": "#C8D4E3"
             },
             "line": {
              "color": "white"
             }
            },
            "type": "table"
           }
          ]
         },
         "layout": {
          "annotationdefaults": {
           "arrowcolor": "#2a3f5f",
           "arrowhead": 0,
           "arrowwidth": 1
          },
          "autotypenumbers": "strict",
          "coloraxis": {
           "colorbar": {
            "outlinewidth": 0,
            "ticks": ""
           }
          },
          "colorscale": {
           "diverging": [
            [
             0,
             "#8e0152"
            ],
            [
             0.1,
             "#c51b7d"
            ],
            [
             0.2,
             "#de77ae"
            ],
            [
             0.3,
             "#f1b6da"
            ],
            [
             0.4,
             "#fde0ef"
            ],
            [
             0.5,
             "#f7f7f7"
            ],
            [
             0.6,
             "#e6f5d0"
            ],
            [
             0.7,
             "#b8e186"
            ],
            [
             0.8,
             "#7fbc41"
            ],
            [
             0.9,
             "#4d9221"
            ],
            [
             1,
             "#276419"
            ]
           ],
           "sequential": [
            [
             0,
             "#0d0887"
            ],
            [
             0.1111111111111111,
             "#46039f"
            ],
            [
             0.2222222222222222,
             "#7201a8"
            ],
            [
             0.3333333333333333,
             "#9c179e"
            ],
            [
             0.4444444444444444,
             "#bd3786"
            ],
            [
             0.5555555555555556,
             "#d8576b"
            ],
            [
             0.6666666666666666,
             "#ed7953"
            ],
            [
             0.7777777777777778,
             "#fb9f3a"
            ],
            [
             0.8888888888888888,
             "#fdca26"
            ],
            [
             1,
             "#f0f921"
            ]
           ],
           "sequentialminus": [
            [
             0,
             "#0d0887"
            ],
            [
             0.1111111111111111,
             "#46039f"
            ],
            [
             0.2222222222222222,
             "#7201a8"
            ],
            [
             0.3333333333333333,
             "#9c179e"
            ],
            [
             0.4444444444444444,
             "#bd3786"
            ],
            [
             0.5555555555555556,
             "#d8576b"
            ],
            [
             0.6666666666666666,
             "#ed7953"
            ],
            [
             0.7777777777777778,
             "#fb9f3a"
            ],
            [
             0.8888888888888888,
             "#fdca26"
            ],
            [
             1,
             "#f0f921"
            ]
           ]
          },
          "colorway": [
           "#636efa",
           "#EF553B",
           "#00cc96",
           "#ab63fa",
           "#FFA15A",
           "#19d3f3",
           "#FF6692",
           "#B6E880",
           "#FF97FF",
           "#FECB52"
          ],
          "font": {
           "color": "#2a3f5f"
          },
          "geo": {
           "bgcolor": "white",
           "lakecolor": "white",
           "landcolor": "#E5ECF6",
           "showlakes": true,
           "showland": true,
           "subunitcolor": "white"
          },
          "hoverlabel": {
           "align": "left"
          },
          "hovermode": "closest",
          "mapbox": {
           "style": "light"
          },
          "paper_bgcolor": "white",
          "plot_bgcolor": "#E5ECF6",
          "polar": {
           "angularaxis": {
            "gridcolor": "white",
            "linecolor": "white",
            "ticks": ""
           },
           "bgcolor": "#E5ECF6",
           "radialaxis": {
            "gridcolor": "white",
            "linecolor": "white",
            "ticks": ""
           }
          },
          "scene": {
           "xaxis": {
            "backgroundcolor": "#E5ECF6",
            "gridcolor": "white",
            "gridwidth": 2,
            "linecolor": "white",
            "showbackground": true,
            "ticks": "",
            "zerolinecolor": "white"
           },
           "yaxis": {
            "backgroundcolor": "#E5ECF6",
            "gridcolor": "white",
            "gridwidth": 2,
            "linecolor": "white",
            "showbackground": true,
            "ticks": "",
            "zerolinecolor": "white"
           },
           "zaxis": {
            "backgroundcolor": "#E5ECF6",
            "gridcolor": "white",
            "gridwidth": 2,
            "linecolor": "white",
            "showbackground": true,
            "ticks": "",
            "zerolinecolor": "white"
           }
          },
          "shapedefaults": {
           "line": {
            "color": "#2a3f5f"
           }
          },
          "ternary": {
           "aaxis": {
            "gridcolor": "white",
            "linecolor": "white",
            "ticks": ""
           },
           "baxis": {
            "gridcolor": "white",
            "linecolor": "white",
            "ticks": ""
           },
           "bgcolor": "#E5ECF6",
           "caxis": {
            "gridcolor": "white",
            "linecolor": "white",
            "ticks": ""
           }
          },
          "title": {
           "x": 0.05
          },
          "xaxis": {
           "automargin": true,
           "gridcolor": "white",
           "linecolor": "white",
           "ticks": "",
           "title": {
            "standoff": 15
           },
           "zerolinecolor": "white",
           "zerolinewidth": 2
          },
          "yaxis": {
           "automargin": true,
           "gridcolor": "white",
           "linecolor": "white",
           "ticks": "",
           "title": {
            "standoff": 15
           },
           "zerolinecolor": "white",
           "zerolinewidth": 2
          }
         }
        },
        "title": {
         "text": "Optimized Inventory Levels Across Materials"
        },
        "xaxis": {
         "anchor": "y",
         "domain": [
          0,
          1
         ],
         "title": {
          "text": "date"
         }
        },
        "yaxis": {
         "anchor": "x",
         "domain": [
          0,
          1
         ],
         "title": {
          "text": "optimized_stock"
         }
        }
       }
      }
     },
     "metadata": {},
     "output_type": "display_data"
    },
    {
     "data": {
      "application/vnd.plotly.v1+json": {
       "config": {
        "plotlyServerURL": "https://plot.ly"
       },
       "data": [
        {
         "hovertemplate": "material=%{x}<br>order_qty=%{y}<extra></extra>",
         "legendgroup": "Media",
         "marker": {
          "color": "#636efa",
          "pattern": {
           "shape": ""
          }
         },
         "name": "Media",
         "orientation": "v",
         "showlegend": true,
         "textposition": "auto",
         "type": "bar",
         "x": [
          "Media"
         ],
         "xaxis": "x",
         "y": {
          "bdata": "AAAAAAAgZEA=",
          "dtype": "f8"
         },
         "yaxis": "y"
        },
        {
         "hovertemplate": "material=%{x}<br>order_qty=%{y}<extra></extra>",
         "legendgroup": "Reagent",
         "marker": {
          "color": "#EF553B",
          "pattern": {
           "shape": ""
          }
         },
         "name": "Reagent",
         "orientation": "v",
         "showlegend": true,
         "textposition": "auto",
         "type": "bar",
         "x": [
          "Reagent"
         ],
         "xaxis": "x",
         "y": {
          "bdata": "ZmZmZmbmjUA=",
          "dtype": "f8"
         },
         "yaxis": "y"
        },
        {
         "hovertemplate": "material=%{x}<br>order_qty=%{y}<extra></extra>",
         "legendgroup": "Bioreactor",
         "marker": {
          "color": "#00cc96",
          "pattern": {
           "shape": ""
          }
         },
         "name": "Bioreactor",
         "orientation": "v",
         "showlegend": true,
         "textposition": "auto",
         "type": "bar",
         "x": [
          "Bioreactor"
         ],
         "xaxis": "x",
         "y": {
          "bdata": "ZmZmZmb+hUA=",
          "dtype": "f8"
         },
         "yaxis": "y"
        }
       ],
       "layout": {
        "barmode": "relative",
        "legend": {
         "title": {
          "text": "material"
         },
         "tracegroupgap": 0
        },
        "template": {
         "data": {
          "bar": [
           {
            "error_x": {
             "color": "#2a3f5f"
            },
            "error_y": {
             "color": "#2a3f5f"
            },
            "marker": {
             "line": {
              "color": "#E5ECF6",
              "width": 0.5
             },
             "pattern": {
              "fillmode": "overlay",
              "size": 10,
              "solidity": 0.2
             }
            },
            "type": "bar"
           }
          ],
          "barpolar": [
           {
            "marker": {
             "line": {
              "color": "#E5ECF6",
              "width": 0.5
             },
             "pattern": {
              "fillmode": "overlay",
              "size": 10,
              "solidity": 0.2
             }
            },
            "type": "barpolar"
           }
          ],
          "carpet": [
           {
            "aaxis": {
             "endlinecolor": "#2a3f5f",
             "gridcolor": "white",
             "linecolor": "white",
             "minorgridcolor": "white",
             "startlinecolor": "#2a3f5f"
            },
            "baxis": {
             "endlinecolor": "#2a3f5f",
             "gridcolor": "white",
             "linecolor": "white",
             "minorgridcolor": "white",
             "startlinecolor": "#2a3f5f"
            },
            "type": "carpet"
           }
          ],
          "choropleth": [
           {
            "colorbar": {
             "outlinewidth": 0,
             "ticks": ""
            },
            "type": "choropleth"
           }
          ],
          "contour": [
           {
            "colorbar": {
             "outlinewidth": 0,
             "ticks": ""
            },
            "colorscale": [
             [
              0,
              "#0d0887"
             ],
             [
              0.1111111111111111,
              "#46039f"
             ],
             [
              0.2222222222222222,
              "#7201a8"
             ],
             [
              0.3333333333333333,
              "#9c179e"
             ],
             [
              0.4444444444444444,
              "#bd3786"
             ],
             [
              0.5555555555555556,
              "#d8576b"
             ],
             [
              0.6666666666666666,
              "#ed7953"
             ],
             [
              0.7777777777777778,
              "#fb9f3a"
             ],
             [
              0.8888888888888888,
              "#fdca26"
             ],
             [
              1,
              "#f0f921"
             ]
            ],
            "type": "contour"
           }
          ],
          "contourcarpet": [
           {
            "colorbar": {
             "outlinewidth": 0,
             "ticks": ""
            },
            "type": "contourcarpet"
           }
          ],
          "heatmap": [
           {
            "colorbar": {
             "outlinewidth": 0,
             "ticks": ""
            },
            "colorscale": [
             [
              0,
              "#0d0887"
             ],
             [
              0.1111111111111111,
              "#46039f"
             ],
             [
              0.2222222222222222,
              "#7201a8"
             ],
             [
              0.3333333333333333,
              "#9c179e"
             ],
             [
              0.4444444444444444,
              "#bd3786"
             ],
             [
              0.5555555555555556,
              "#d8576b"
             ],
             [
              0.6666666666666666,
              "#ed7953"
             ],
             [
              0.7777777777777778,
              "#fb9f3a"
             ],
             [
              0.8888888888888888,
              "#fdca26"
             ],
             [
              1,
              "#f0f921"
             ]
            ],
            "type": "heatmap"
           }
          ],
          "histogram": [
           {
            "marker": {
             "pattern": {
              "fillmode": "overlay",
              "size": 10,
              "solidity": 0.2
             }
            },
            "type": "histogram"
           }
          ],
          "histogram2d": [
           {
            "colorbar": {
             "outlinewidth": 0,
             "ticks": ""
            },
            "colorscale": [
             [
              0,
              "#0d0887"
             ],
             [
              0.1111111111111111,
              "#46039f"
             ],
             [
              0.2222222222222222,
              "#7201a8"
             ],
             [
              0.3333333333333333,
              "#9c179e"
             ],
             [
              0.4444444444444444,
              "#bd3786"
             ],
             [
              0.5555555555555556,
              "#d8576b"
             ],
             [
              0.6666666666666666,
              "#ed7953"
             ],
             [
              0.7777777777777778,
              "#fb9f3a"
             ],
             [
              0.8888888888888888,
              "#fdca26"
             ],
             [
              1,
              "#f0f921"
             ]
            ],
            "type": "histogram2d"
           }
          ],
          "histogram2dcontour": [
           {
            "colorbar": {
             "outlinewidth": 0,
             "ticks": ""
            },
            "colorscale": [
             [
              0,
              "#0d0887"
             ],
             [
              0.1111111111111111,
              "#46039f"
             ],
             [
              0.2222222222222222,
              "#7201a8"
             ],
             [
              0.3333333333333333,
              "#9c179e"
             ],
             [
              0.4444444444444444,
              "#bd3786"
             ],
             [
              0.5555555555555556,
              "#d8576b"
             ],
             [
              0.6666666666666666,
              "#ed7953"
             ],
             [
              0.7777777777777778,
              "#fb9f3a"
             ],
             [
              0.8888888888888888,
              "#fdca26"
             ],
             [
              1,
              "#f0f921"
             ]
            ],
            "type": "histogram2dcontour"
           }
          ],
          "mesh3d": [
           {
            "colorbar": {
             "outlinewidth": 0,
             "ticks": ""
            },
            "type": "mesh3d"
           }
          ],
          "parcoords": [
           {
            "line": {
             "colorbar": {
              "outlinewidth": 0,
              "ticks": ""
             }
            },
            "type": "parcoords"
           }
          ],
          "pie": [
           {
            "automargin": true,
            "type": "pie"
           }
          ],
          "scatter": [
           {
            "fillpattern": {
             "fillmode": "overlay",
             "size": 10,
             "solidity": 0.2
            },
            "type": "scatter"
           }
          ],
          "scatter3d": [
           {
            "line": {
             "colorbar": {
              "outlinewidth": 0,
              "ticks": ""
             }
            },
            "marker": {
             "colorbar": {
              "outlinewidth": 0,
              "ticks": ""
             }
            },
            "type": "scatter3d"
           }
          ],
          "scattercarpet": [
           {
            "marker": {
             "colorbar": {
              "outlinewidth": 0,
              "ticks": ""
             }
            },
            "type": "scattercarpet"
           }
          ],
          "scattergeo": [
           {
            "marker": {
             "colorbar": {
              "outlinewidth": 0,
              "ticks": ""
             }
            },
            "type": "scattergeo"
           }
          ],
          "scattergl": [
           {
            "marker": {
             "colorbar": {
              "outlinewidth": 0,
              "ticks": ""
             }
            },
            "type": "scattergl"
           }
          ],
          "scattermap": [
           {
            "marker": {
             "colorbar": {
              "outlinewidth": 0,
              "ticks": ""
             }
            },
            "type": "scattermap"
           }
          ],
          "scattermapbox": [
           {
            "marker": {
             "colorbar": {
              "outlinewidth": 0,
              "ticks": ""
             }
            },
            "type": "scattermapbox"
           }
          ],
          "scatterpolar": [
           {
            "marker": {
             "colorbar": {
              "outlinewidth": 0,
              "ticks": ""
             }
            },
            "type": "scatterpolar"
           }
          ],
          "scatterpolargl": [
           {
            "marker": {
             "colorbar": {
              "outlinewidth": 0,
              "ticks": ""
             }
            },
            "type": "scatterpolargl"
           }
          ],
          "scatterternary": [
           {
            "marker": {
             "colorbar": {
              "outlinewidth": 0,
              "ticks": ""
             }
            },
            "type": "scatterternary"
           }
          ],
          "surface": [
           {
            "colorbar": {
             "outlinewidth": 0,
             "ticks": ""
            },
            "colorscale": [
             [
              0,
              "#0d0887"
             ],
             [
              0.1111111111111111,
              "#46039f"
             ],
             [
              0.2222222222222222,
              "#7201a8"
             ],
             [
              0.3333333333333333,
              "#9c179e"
             ],
             [
              0.4444444444444444,
              "#bd3786"
             ],
             [
              0.5555555555555556,
              "#d8576b"
             ],
             [
              0.6666666666666666,
              "#ed7953"
             ],
             [
              0.7777777777777778,
              "#fb9f3a"
             ],
             [
              0.8888888888888888,
              "#fdca26"
             ],
             [
              1,
              "#f0f921"
             ]
            ],
            "type": "surface"
           }
          ],
          "table": [
           {
            "cells": {
             "fill": {
              "color": "#EBF0F8"
             },
             "line": {
              "color": "white"
             }
            },
            "header": {
             "fill": {
              "color": "#C8D4E3"
             },
             "line": {
              "color": "white"
             }
            },
            "type": "table"
           }
          ]
         },
         "layout": {
          "annotationdefaults": {
           "arrowcolor": "#2a3f5f",
           "arrowhead": 0,
           "arrowwidth": 1
          },
          "autotypenumbers": "strict",
          "coloraxis": {
           "colorbar": {
            "outlinewidth": 0,
            "ticks": ""
           }
          },
          "colorscale": {
           "diverging": [
            [
             0,
             "#8e0152"
            ],
            [
             0.1,
             "#c51b7d"
            ],
            [
             0.2,
             "#de77ae"
            ],
            [
             0.3,
             "#f1b6da"
            ],
            [
             0.4,
             "#fde0ef"
            ],
            [
             0.5,
             "#f7f7f7"
            ],
            [
             0.6,
             "#e6f5d0"
            ],
            [
             0.7,
             "#b8e186"
            ],
            [
             0.8,
             "#7fbc41"
            ],
            [
             0.9,
             "#4d9221"
            ],
            [
             1,
             "#276419"
            ]
           ],
           "sequential": [
            [
             0,
             "#0d0887"
            ],
            [
             0.1111111111111111,
             "#46039f"
            ],
            [
             0.2222222222222222,
             "#7201a8"
            ],
            [
             0.3333333333333333,
             "#9c179e"
            ],
            [
             0.4444444444444444,
             "#bd3786"
            ],
            [
             0.5555555555555556,
             "#d8576b"
            ],
            [
             0.6666666666666666,
             "#ed7953"
            ],
            [
             0.7777777777777778,
             "#fb9f3a"
            ],
            [
             0.8888888888888888,
             "#fdca26"
            ],
            [
             1,
             "#f0f921"
            ]
           ],
           "sequentialminus": [
            [
             0,
             "#0d0887"
            ],
            [
             0.1111111111111111,
             "#46039f"
            ],
            [
             0.2222222222222222,
             "#7201a8"
            ],
            [
             0.3333333333333333,
             "#9c179e"
            ],
            [
             0.4444444444444444,
             "#bd3786"
            ],
            [
             0.5555555555555556,
             "#d8576b"
            ],
            [
             0.6666666666666666,
             "#ed7953"
            ],
            [
             0.7777777777777778,
             "#fb9f3a"
            ],
            [
             0.8888888888888888,
             "#fdca26"
            ],
            [
             1,
             "#f0f921"
            ]
           ]
          },
          "colorway": [
           "#636efa",
           "#EF553B",
           "#00cc96",
           "#ab63fa",
           "#FFA15A",
           "#19d3f3",
           "#FF6692",
           "#B6E880",
           "#FF97FF",
           "#FECB52"
          ],
          "font": {
           "color": "#2a3f5f"
          },
          "geo": {
           "bgcolor": "white",
           "lakecolor": "white",
           "landcolor": "#E5ECF6",
           "showlakes": true,
           "showland": true,
           "subunitcolor": "white"
          },
          "hoverlabel": {
           "align": "left"
          },
          "hovermode": "closest",
          "mapbox": {
           "style": "light"
          },
          "paper_bgcolor": "white",
          "plot_bgcolor": "#E5ECF6",
          "polar": {
           "angularaxis": {
            "gridcolor": "white",
            "linecolor": "white",
            "ticks": ""
           },
           "bgcolor": "#E5ECF6",
           "radialaxis": {
            "gridcolor": "white",
            "linecolor": "white",
            "ticks": ""
           }
          },
          "scene": {
           "xaxis": {
            "backgroundcolor": "#E5ECF6",
            "gridcolor": "white",
            "gridwidth": 2,
            "linecolor": "white",
            "showbackground": true,
            "ticks": "",
            "zerolinecolor": "white"
           },
           "yaxis": {
            "backgroundcolor": "#E5ECF6",
            "gridcolor": "white",
            "gridwidth": 2,
            "linecolor": "white",
            "showbackground": true,
            "ticks": "",
            "zerolinecolor": "white"
           },
           "zaxis": {
            "backgroundcolor": "#E5ECF6",
            "gridcolor": "white",
            "gridwidth": 2,
            "linecolor": "white",
            "showbackground": true,
            "ticks": "",
            "zerolinecolor": "white"
           }
          },
          "shapedefaults": {
           "line": {
            "color": "#2a3f5f"
           }
          },
          "ternary": {
           "aaxis": {
            "gridcolor": "white",
            "linecolor": "white",
            "ticks": ""
           },
           "baxis": {
            "gridcolor": "white",
            "linecolor": "white",
            "ticks": ""
           },
           "bgcolor": "#E5ECF6",
           "caxis": {
            "gridcolor": "white",
            "linecolor": "white",
            "ticks": ""
           }
          },
          "title": {
           "x": 0.05
          },
          "xaxis": {
           "automargin": true,
           "gridcolor": "white",
           "linecolor": "white",
           "ticks": "",
           "title": {
            "standoff": 15
           },
           "zerolinecolor": "white",
           "zerolinewidth": 2
          },
          "yaxis": {
           "automargin": true,
           "gridcolor": "white",
           "linecolor": "white",
           "ticks": "",
           "title": {
            "standoff": 15
           },
           "zerolinecolor": "white",
           "zerolinewidth": 2
          }
         }
        },
        "title": {
         "text": "Optimized Order Quantities for Biologics Materials"
        },
        "xaxis": {
         "anchor": "y",
         "categoryarray": [
          "Media",
          "Reagent",
          "Bioreactor"
         ],
         "categoryorder": "array",
         "domain": [
          0,
          1
         ],
         "title": {
          "text": "material"
         }
        },
        "yaxis": {
         "anchor": "x",
         "domain": [
          0,
          1
         ],
         "title": {
          "text": "order_qty"
         }
        }
       }
      }
     },
     "metadata": {},
     "output_type": "display_data"
    }
   ],
   "source": [
    "fig = px.line(df_optimized_multi, x='date', y='optimized_stock', color='material',\n",
    "              title='Optimized Inventory Levels Across Materials')\n",
    "fig.show()\n",
    "\n",
    "# Bar chart for optimized order quantities (single-material)\n",
    "opt_df = pd.DataFrame({\n",
    "    'material': list(optimization_results.keys()),\n",
    "    'order_qty': list(optimization_results.values())\n",
    "})\n",
    "fig2 = px.bar(opt_df, x='material', y='order_qty', color='material',\n",
    "              title='Optimized Order Quantities for Biologics Materials')\n",
    "fig2.show()"
   ]
  },
  {
   "cell_type": "markdown",
   "id": "c41e3a02",
   "metadata": {},
   "source": [
    "## 11. FDA Shortage Risk Integration\n",
    "\n",
    "Merge FDA shortage data with sales data and adjust safety stock calculations based on shortage history."
   ]
  },
  {
   "cell_type": "code",
   "execution_count": 15,
   "id": "289e77dd",
   "metadata": {},
   "outputs": [
    {
     "name": "stderr",
     "output_type": "stream",
     "text": [
      "C:\\Users\\aarti\\AppData\\Local\\Temp\\ipykernel_27708\\3149047390.py:10: FutureWarning:\n",
      "\n",
      "A value is trying to be set on a copy of a DataFrame or Series through chained assignment using an inplace method.\n",
      "The behavior will change in pandas 3.0. This inplace method will never work because the intermediate object on which we are setting values always behaves as a copy.\n",
      "\n",
      "For example, when doing 'df[col].method(value, inplace=True)', try using 'df.method({col: value}, inplace=True)' or df[col] = df[col].method(value) instead, to perform the operation inplace on the original object.\n",
      "\n",
      "\n",
      "\n",
      "C:\\Users\\aarti\\AppData\\Local\\Temp\\ipykernel_27708\\3149047390.py:11: FutureWarning:\n",
      "\n",
      "A value is trying to be set on a copy of a DataFrame or Series through chained assignment using an inplace method.\n",
      "The behavior will change in pandas 3.0. This inplace method will never work because the intermediate object on which we are setting values always behaves as a copy.\n",
      "\n",
      "For example, when doing 'df[col].method(value, inplace=True)', try using 'df.method({col: value}, inplace=True)' or df[col] = df[col].method(value) instead, to perform the operation inplace on the original object.\n",
      "\n",
      "\n",
      "\n"
     ]
    },
    {
     "data": {
      "text/html": [
       "<div>\n",
       "<style scoped>\n",
       "    .dataframe tbody tr th:only-of-type {\n",
       "        vertical-align: middle;\n",
       "    }\n",
       "\n",
       "    .dataframe tbody tr th {\n",
       "        vertical-align: top;\n",
       "    }\n",
       "\n",
       "    .dataframe thead th {\n",
       "        text-align: right;\n",
       "    }\n",
       "</style>\n",
       "<table border=\"1\" class=\"dataframe\">\n",
       "  <thead>\n",
       "    <tr style=\"text-align: right;\">\n",
       "      <th></th>\n",
       "      <th>product_code</th>\n",
       "      <th>safety_stock</th>\n",
       "      <th>adjusted_safety_stock</th>\n",
       "    </tr>\n",
       "  </thead>\n",
       "  <tbody>\n",
       "    <tr>\n",
       "      <th>0</th>\n",
       "      <td>DrugA</td>\n",
       "      <td>230.0</td>\n",
       "      <td>460.0</td>\n",
       "    </tr>\n",
       "    <tr>\n",
       "      <th>1</th>\n",
       "      <td>DrugA</td>\n",
       "      <td>276.0</td>\n",
       "      <td>552.0</td>\n",
       "    </tr>\n",
       "    <tr>\n",
       "      <th>2</th>\n",
       "      <td>DrugA</td>\n",
       "      <td>253.0</td>\n",
       "      <td>506.0</td>\n",
       "    </tr>\n",
       "    <tr>\n",
       "      <th>3</th>\n",
       "      <td>DrugA</td>\n",
       "      <td>207.0</td>\n",
       "      <td>414.0</td>\n",
       "    </tr>\n",
       "    <tr>\n",
       "      <th>4</th>\n",
       "      <td>DrugA</td>\n",
       "      <td>218.5</td>\n",
       "      <td>437.0</td>\n",
       "    </tr>\n",
       "  </tbody>\n",
       "</table>\n",
       "</div>"
      ],
      "text/plain": [
       "  product_code  safety_stock  adjusted_safety_stock\n",
       "0        DrugA         230.0                  460.0\n",
       "1        DrugA         276.0                  552.0\n",
       "2        DrugA         253.0                  506.0\n",
       "3        DrugA         207.0                  414.0\n",
       "4        DrugA         218.5                  437.0"
      ]
     },
     "execution_count": 15,
     "metadata": {},
     "output_type": "execute_result"
    }
   ],
   "source": [
    "# Example FDA shortage dataset\n",
    "fda_df = pd.DataFrame({\n",
    "    'product_code': ['DrugA', 'DrugB', 'DrugC'],\n",
    "    'shortage_flag': [1,0,1],\n",
    "    'shortage_count': [3,0,1]\n",
    "})\n",
    "\n",
    "# Merge with sales data\n",
    "sales_long = sales_long.merge(fda_df, on='product_code', how='left')\n",
    "sales_long['shortage_flag'].fillna(0, inplace=True)\n",
    "sales_long['shortage_count'].fillna(0, inplace=True)\n",
    "\n",
    "# Adjust safety stock based on shortage history\n",
    "sales_long['adjusted_safety_stock'] = sales_long['safety_stock'] * (1 + sales_long['shortage_count']/sales_long['shortage_count'].max())\n",
    "sales_long[['product_code','safety_stock','adjusted_safety_stock']].head()"
   ]
  },
  {
   "cell_type": "markdown",
   "id": "3d115a0e",
   "metadata": {},
   "source": [
    "## 12. Optimized Stock vs Safety Stock Bubble Chart\n",
    "\n",
    "Create a bubble chart comparing optimized stock and safety stock, with bubble size representing stockout units."
   ]
  },
  {
   "cell_type": "code",
   "execution_count": 16,
   "id": "715bb95e",
   "metadata": {},
   "outputs": [
    {
     "data": {
      "application/vnd.plotly.v1+json": {
       "config": {
        "plotlyServerURL": "https://plot.ly"
       },
       "data": [
        {
         "customdata": [
          [
           "2024-01-07T00:00:00.000000000"
          ],
          [
           "2024-01-14T00:00:00.000000000"
          ],
          [
           "2024-01-21T00:00:00.000000000"
          ],
          [
           "2024-01-28T00:00:00.000000000"
          ],
          [
           "2024-02-04T00:00:00.000000000"
          ],
          [
           "2024-02-11T00:00:00.000000000"
          ],
          [
           "2024-02-18T00:00:00.000000000"
          ],
          [
           "2024-02-25T00:00:00.000000000"
          ],
          [
           "2024-03-03T00:00:00.000000000"
          ],
          [
           "2024-03-10T00:00:00.000000000"
          ],
          [
           "2024-03-17T00:00:00.000000000"
          ],
          [
           "2024-03-24T00:00:00.000000000"
          ],
          [
           "2024-03-31T00:00:00.000000000"
          ],
          [
           "2024-04-07T00:00:00.000000000"
          ],
          [
           "2024-04-14T00:00:00.000000000"
          ],
          [
           "2024-04-21T00:00:00.000000000"
          ],
          [
           "2024-04-28T00:00:00.000000000"
          ],
          [
           "2024-05-05T00:00:00.000000000"
          ],
          [
           "2024-05-12T00:00:00.000000000"
          ],
          [
           "2024-05-19T00:00:00.000000000"
          ],
          [
           "2024-05-26T00:00:00.000000000"
          ],
          [
           "2024-06-02T00:00:00.000000000"
          ],
          [
           "2024-06-09T00:00:00.000000000"
          ],
          [
           "2024-06-16T00:00:00.000000000"
          ],
          [
           "2024-06-23T00:00:00.000000000"
          ],
          [
           "2024-06-30T00:00:00.000000000"
          ],
          [
           "2024-07-07T00:00:00.000000000"
          ],
          [
           "2024-07-14T00:00:00.000000000"
          ],
          [
           "2024-07-21T00:00:00.000000000"
          ],
          [
           "2024-07-28T00:00:00.000000000"
          ],
          [
           "2024-08-04T00:00:00.000000000"
          ],
          [
           "2024-08-11T00:00:00.000000000"
          ],
          [
           "2024-08-18T00:00:00.000000000"
          ],
          [
           "2024-08-25T00:00:00.000000000"
          ],
          [
           "2024-09-01T00:00:00.000000000"
          ],
          [
           "2024-09-08T00:00:00.000000000"
          ],
          [
           "2024-09-15T00:00:00.000000000"
          ],
          [
           "2024-09-22T00:00:00.000000000"
          ],
          [
           "2024-09-29T00:00:00.000000000"
          ],
          [
           "2024-10-06T00:00:00.000000000"
          ],
          [
           "2024-10-13T00:00:00.000000000"
          ],
          [
           "2024-10-20T00:00:00.000000000"
          ],
          [
           "2024-10-27T00:00:00.000000000"
          ],
          [
           "2024-11-03T00:00:00.000000000"
          ],
          [
           "2024-11-10T00:00:00.000000000"
          ],
          [
           "2024-11-17T00:00:00.000000000"
          ],
          [
           "2024-11-24T00:00:00.000000000"
          ],
          [
           "2024-12-01T00:00:00.000000000"
          ],
          [
           "2024-12-08T00:00:00.000000000"
          ],
          [
           "2024-12-15T00:00:00.000000000"
          ],
          [
           "2024-12-22T00:00:00.000000000"
          ],
          [
           "2024-12-29T00:00:00.000000000"
          ]
         ],
         "hovertemplate": "product_code=Media<br>optimized_stock=%{x}<br>adjusted_safety_stock=%{y}<br>stockout_units=%{marker.size}<br>date=%{customdata[0]}<extra></extra>",
         "legendgroup": "Media",
         "marker": {
          "color": "#636efa",
          "size": {
           "bdata": "KAAAACoAAAAsAAAADQAAAAIAAAAFAAAALQAAACkAAAANAAAADwAAABgAAAArAAAAMAAAABoAAAAVAAAACgAAACQAAAAqAAAAEgAAABIAAAAPAAAAHQAAAAcAAAAdAAAABwAAACQAAAAcAAAADQAAADEAAAAjAAAAIwAAACYAAAALAAAADAAAAAsAAAANAAAACQAAACsAAAAHAAAAFwAAACQAAAAqAAAALwAAABgAAAAHAAAADAAAAAIAAAAIAAAAJwAAAAkAAAAuAAAALQAAAA==",
           "dtype": "i4"
          },
          "sizemode": "area",
          "sizeref": 0.1225,
          "symbol": "circle"
         },
         "mode": "markers",
         "name": "Media",
         "orientation": "v",
         "showlegend": true,
         "type": "scatter",
         "x": {
          "bdata": "AAAAAACAbEAAAAAAALyGQAAAAAAAAAAAAAAAAACAX0AAAAAAAEBtQAAAAAAAAAAAAAAAAAAAAAAAAAAAAEBaQAAAAAAAAAAAAAAAAABAakAAAAAAAEBfQAAAAAAAQGBAAAAAAAAAAAAAAAAAAMiDQAAAAAAAAGVAAAAAAAAALEAAAAAAAABHQAAAAAAAAAAAAAAAAAAAREAAAAAAAMiAQAAAAAAAyHxAAAAAAAAAAAAAAAAAAABPQAAAAAAAAAAAAAAAAABkhEAAAAAAAAAAAAAAAAAAHIdAAAAAAACAXkAAAAAAALBzQAAAAAAABIFAAAAAAAAAAAAAAAAAAKBxQAAAAAAAwExAAAAAAACAWEAAAAAAAAAAAAAAAAAAQGRAAAAAAACIdEAAAAAAAAAAAAAAAAAAACRAAAAAAAAAAAAAAAAAADSHQAAAAAAAYHJAAAAAAAA0h0AAAAAAAAAAAAAAAAAAXINAAAAAAACAY0AAAAAAAAAAAAAAAAAATIFAAAAAAADgcEAAAAAAAAAAAAAAAAAAQGxAAAAAAAAAAAA=",
          "dtype": "f8"
         },
         "xaxis": "x",
         "y": {
          "bdata": "mpmZmZlZb0ABAAAAAAKJQAAAAAAAAAAANDMzMzNTYUBnZmZmZhZwQAAAAAAAAAAAAAAAAAAAAAABAAAAAOBcQAAAAAAAAAAAAQAAAADgbEAAAAAAADBhQAAAAAAA4GFAAAAAAAAAAABnZmZmZsKFQJqZmZmZGWdAzszMzMzMLkDNzMzMzExJQAAAAAAAAAAAAAAAAAAARkCamZmZmXWCQM7MzMzMqH9AAAAAAAAAAADNzMzMzAxRQAAAAAAAAAAAAQAAAABuhkAAAAAAAAAAAJqZmZmZa4lAZ2ZmZmbGYEAAAAAAAKh1QJqZmZmZt4JAAAAAAAAAAAA0MzMzM2NzQAEAAAAAoE9ANDMzMzPzWkAAAAAAAAAAAGdmZmZmRmZAmpmZmZmVdkAAAAAAAAAAAAAAAAAAACZAAAAAAAAAAAABAAAAAIaJQGdmZmZmNnRAAQAAAACGiUAAAAAAAAAAAJqZmZmZS4VANDMzMzNzZUAAAAAAAAAAAM3MzMzMBoNAAAAAAACQckAAAAAAAAAAADQzMzMzE29AAAAAAAAAAAA=",
          "dtype": "f8"
         },
         "yaxis": "y"
        },
        {
         "customdata": [
          [
           "2024-01-07T00:00:00.000000000"
          ],
          [
           "2024-01-14T00:00:00.000000000"
          ],
          [
           "2024-01-21T00:00:00.000000000"
          ],
          [
           "2024-01-28T00:00:00.000000000"
          ],
          [
           "2024-02-04T00:00:00.000000000"
          ],
          [
           "2024-02-11T00:00:00.000000000"
          ],
          [
           "2024-02-18T00:00:00.000000000"
          ],
          [
           "2024-02-25T00:00:00.000000000"
          ],
          [
           "2024-03-03T00:00:00.000000000"
          ],
          [
           "2024-03-10T00:00:00.000000000"
          ],
          [
           "2024-03-17T00:00:00.000000000"
          ],
          [
           "2024-03-24T00:00:00.000000000"
          ],
          [
           "2024-03-31T00:00:00.000000000"
          ],
          [
           "2024-04-07T00:00:00.000000000"
          ],
          [
           "2024-04-14T00:00:00.000000000"
          ],
          [
           "2024-04-21T00:00:00.000000000"
          ],
          [
           "2024-04-28T00:00:00.000000000"
          ],
          [
           "2024-05-05T00:00:00.000000000"
          ],
          [
           "2024-05-12T00:00:00.000000000"
          ],
          [
           "2024-05-19T00:00:00.000000000"
          ],
          [
           "2024-05-26T00:00:00.000000000"
          ],
          [
           "2024-06-02T00:00:00.000000000"
          ],
          [
           "2024-06-09T00:00:00.000000000"
          ],
          [
           "2024-06-16T00:00:00.000000000"
          ],
          [
           "2024-06-23T00:00:00.000000000"
          ],
          [
           "2024-06-30T00:00:00.000000000"
          ],
          [
           "2024-07-07T00:00:00.000000000"
          ],
          [
           "2024-07-14T00:00:00.000000000"
          ],
          [
           "2024-07-21T00:00:00.000000000"
          ],
          [
           "2024-07-28T00:00:00.000000000"
          ],
          [
           "2024-08-04T00:00:00.000000000"
          ],
          [
           "2024-08-11T00:00:00.000000000"
          ],
          [
           "2024-08-18T00:00:00.000000000"
          ],
          [
           "2024-08-25T00:00:00.000000000"
          ],
          [
           "2024-09-01T00:00:00.000000000"
          ],
          [
           "2024-09-08T00:00:00.000000000"
          ],
          [
           "2024-09-15T00:00:00.000000000"
          ],
          [
           "2024-09-22T00:00:00.000000000"
          ],
          [
           "2024-09-29T00:00:00.000000000"
          ],
          [
           "2024-10-06T00:00:00.000000000"
          ],
          [
           "2024-10-13T00:00:00.000000000"
          ],
          [
           "2024-10-20T00:00:00.000000000"
          ],
          [
           "2024-10-27T00:00:00.000000000"
          ],
          [
           "2024-11-03T00:00:00.000000000"
          ],
          [
           "2024-11-10T00:00:00.000000000"
          ],
          [
           "2024-11-17T00:00:00.000000000"
          ],
          [
           "2024-11-24T00:00:00.000000000"
          ],
          [
           "2024-12-01T00:00:00.000000000"
          ],
          [
           "2024-12-08T00:00:00.000000000"
          ],
          [
           "2024-12-15T00:00:00.000000000"
          ],
          [
           "2024-12-22T00:00:00.000000000"
          ],
          [
           "2024-12-29T00:00:00.000000000"
          ]
         ],
         "hovertemplate": "product_code=Reagent<br>optimized_stock=%{x}<br>adjusted_safety_stock=%{y}<br>stockout_units=%{marker.size}<br>date=%{customdata[0]}<extra></extra>",
         "legendgroup": "Reagent",
         "marker": {
          "color": "#EF553B",
          "size": {
           "bdata": "EgAAABsAAAARAAAAEQAAAAcAAAAoAAAAJwAAAAcAAAAjAAAAHwAAABQAAAAsAAAAAgAAABcAAAAPAAAAEgAAABUAAAAVAAAAMAAAAAwAAAALAAAAGwAAAAcAAAAIAAAAEwAAAA4AAAADAAAAFwAAAC8AAAAsAAAABQAAABYAAAAnAAAADgAAAB0AAAATAAAAGgAAABoAAAAhAAAAIAAAAAkAAAAIAAAABwAAAA0AAAAAAAAACQAAAAMAAAARAAAAHQAAACgAAAAZAAAAKgAAAA==",
           "dtype": "i4"
          },
          "sizemode": "area",
          "sizeref": 0.1225,
          "symbol": "circle"
         },
         "mode": "markers",
         "name": "Reagent",
         "orientation": "v",
         "showlegend": true,
         "type": "scatter",
         "x": {
          "bdata": "AAAAAACgh0AAAAAAAAAAAAAAAAAAAAAAAAAAAABQi0AAAAAAAAArQAAAAAAA0IZAAAAAAAAAAAAAAAAAADCCQAAAAAAAoINAAAAAAACwiEAAAAAAAAAAAAAAAAAAMItAAAAAAAAALkAAAAAAAAAAAAAAAAAAAIpAAAAAAADQjkAAAAAAANCNQAAAAAAAkINAAAAAAAAAjkAAAAAAAAAAAAAAAAAA4H9AAAAAAAAAAAAAAAAAAFCNQAAAAAAAAAAAAAAAAAC4dUAAAAAAAFCLQAAAAAAAAAAAAAAAAABwi0AAAAAAAMBpQAAAAAAAYHNAAAAAAABQg0AAAAAAAHCGQAAAAAAAAAAAAAAAAAAwjEAAAAAAAAAAAAAAAAAAQGdAAAAAAABgekAAAAAAAAAAAAAAAAAA8I5AAAAAAADwg0AAAAAAABhwQAAAAAAAEIZAAAAAAAAYcEAAAAAAAAAAAAAAAAAAyHdAAAAAAADgfUAAAAAAAAAAAAAAAAAAAAAAAAAAAAAQgEAAAAAAAAAAAAAAAAAAMIhAAAAAAAAAikA=",
          "dtype": "f8"
         },
         "xaxis": "x",
         "y": {
          "bdata": "zczMzMz8iUAAAAAAAAAAAAAAAAAAAAAANDMzMzMLjkA0MzMzM7MtQAEAAAAAGIlAAAAAAAAAAACamZmZmQGEQGdmZmZmloVAAQAAAAAoi0AAAAAAAAAAAAEAAAAA6I1AAAAAAACAMEAAAAAAAAAAAJqZmZmZmYxAZ2ZmZmbykECamZmZmWWQQM3MzMzMhIVAAAAAAACAkEAAAAAAAAAAAAAAAAAAiIFAAAAAAAAAAAA0MzMzMx+QQAAAAAAAAAAAAQAAAADkd0A0MzMzMwuOQAAAAAAAAAAAZ2ZmZmYujkA0MzMzM1NsQAAAAAAAUHVAZ2ZmZmY+hUBnZmZmZq6IQAAAAAAAAAAAmpmZmZkBj0AAAAAAAAAAADQzMzMzk2lANDMzMzMDfUAAAAAAAAAAAAAAAAAABJFAZ2ZmZmbuhUAAAAAAALRxQM3MzMzMRIhAAAAAAAC0cUAAAAAAAAAAAM3MzMzMKHpAZ2ZmZmZugEAAAAAAAAAAAAAAAAAAAAAANDMzMzOrgUAAAAAAAAAAADQzMzMzm4pAmpmZmZmZjEA=",
          "dtype": "f8"
         },
         "yaxis": "y"
        },
        {
         "customdata": [
          [
           "2024-01-07T00:00:00.000000000"
          ],
          [
           "2024-01-14T00:00:00.000000000"
          ],
          [
           "2024-01-21T00:00:00.000000000"
          ],
          [
           "2024-01-28T00:00:00.000000000"
          ],
          [
           "2024-02-04T00:00:00.000000000"
          ],
          [
           "2024-02-11T00:00:00.000000000"
          ],
          [
           "2024-02-18T00:00:00.000000000"
          ],
          [
           "2024-02-25T00:00:00.000000000"
          ],
          [
           "2024-03-03T00:00:00.000000000"
          ],
          [
           "2024-03-10T00:00:00.000000000"
          ],
          [
           "2024-03-17T00:00:00.000000000"
          ],
          [
           "2024-03-24T00:00:00.000000000"
          ],
          [
           "2024-03-31T00:00:00.000000000"
          ],
          [
           "2024-04-07T00:00:00.000000000"
          ],
          [
           "2024-04-14T00:00:00.000000000"
          ],
          [
           "2024-04-21T00:00:00.000000000"
          ],
          [
           "2024-04-28T00:00:00.000000000"
          ],
          [
           "2024-05-05T00:00:00.000000000"
          ],
          [
           "2024-05-12T00:00:00.000000000"
          ],
          [
           "2024-05-19T00:00:00.000000000"
          ],
          [
           "2024-05-26T00:00:00.000000000"
          ],
          [
           "2024-06-02T00:00:00.000000000"
          ],
          [
           "2024-06-09T00:00:00.000000000"
          ],
          [
           "2024-06-16T00:00:00.000000000"
          ],
          [
           "2024-06-23T00:00:00.000000000"
          ],
          [
           "2024-06-30T00:00:00.000000000"
          ],
          [
           "2024-07-07T00:00:00.000000000"
          ],
          [
           "2024-07-14T00:00:00.000000000"
          ],
          [
           "2024-07-21T00:00:00.000000000"
          ],
          [
           "2024-07-28T00:00:00.000000000"
          ],
          [
           "2024-08-04T00:00:00.000000000"
          ],
          [
           "2024-08-11T00:00:00.000000000"
          ],
          [
           "2024-08-18T00:00:00.000000000"
          ],
          [
           "2024-08-25T00:00:00.000000000"
          ],
          [
           "2024-09-01T00:00:00.000000000"
          ],
          [
           "2024-09-08T00:00:00.000000000"
          ],
          [
           "2024-09-15T00:00:00.000000000"
          ],
          [
           "2024-09-22T00:00:00.000000000"
          ],
          [
           "2024-09-29T00:00:00.000000000"
          ],
          [
           "2024-10-06T00:00:00.000000000"
          ],
          [
           "2024-10-13T00:00:00.000000000"
          ],
          [
           "2024-10-20T00:00:00.000000000"
          ],
          [
           "2024-10-27T00:00:00.000000000"
          ],
          [
           "2024-11-03T00:00:00.000000000"
          ],
          [
           "2024-11-10T00:00:00.000000000"
          ],
          [
           "2024-11-17T00:00:00.000000000"
          ],
          [
           "2024-11-24T00:00:00.000000000"
          ],
          [
           "2024-12-01T00:00:00.000000000"
          ],
          [
           "2024-12-08T00:00:00.000000000"
          ],
          [
           "2024-12-15T00:00:00.000000000"
          ],
          [
           "2024-12-22T00:00:00.000000000"
          ],
          [
           "2024-12-29T00:00:00.000000000"
          ]
         ],
         "hovertemplate": "product_code=Bioreactor<br>optimized_stock=%{x}<br>adjusted_safety_stock=%{y}<br>stockout_units=%{marker.size}<br>date=%{customdata[0]}<extra></extra>",
         "legendgroup": "Bioreactor",
         "marker": {
          "color": "#00cc96",
          "size": {
           "bdata": "DQAAABwAAAAIAAAAJAAAADEAAAAVAAAAFwAAACIAAAAjAAAAHgAAAA4AAAAGAAAAIgAAABoAAAArAAAAKQAAACEAAAAYAAAAKwAAAAUAAAADAAAAAQAAACYAAAANAAAAAwAAACIAAAAMAAAAHAAAADEAAAAhAAAAGQAAACoAAAAmAAAAGQAAAAMAAAANAAAALgAAAAoAAAACAAAAFgAAAAcAAAArAAAAGQAAAA0AAAAEAAAAFQAAAA0AAAALAAAAAgAAACwAAAAdAAAAEwAAAA==",
           "dtype": "i4"
          },
          "sizemode": "area",
          "sizeref": 0.1225,
          "symbol": "circle"
         },
         "mode": "markers",
         "name": "Bioreactor",
         "orientation": "v",
         "showlegend": true,
         "type": "scatter",
         "x": {
          "bdata": "AAAAAAAAMEAAAAAAAAhxQAAAAAAAQI9AAAAAAAAAAAAAAAAAAISHQAAAAAAA4HBAAAAAAABAj0AAAAAAACBsQAAAAAAAQHdAAAAAAAAAAAAAAAAAAFiLQAAAAAAAAAAAAAAAAADIjkAAAAAAAPB2QAAAAAAAAAAAAAAAAAAAAAAAAAAAAAAAAAAAAAAAYHdAAAAAAAAAAAAAAAAAAPB8QAAAAAAAgD1AAAAAAABAj0AAAAAAAAAAAAAAAAAAQI9AAAAAAAAAAAAAAAAAAIBfQAAAAAAASHBAAAAAAAAAAAAAAAAAACBsQAAAAAAAMGJAAAAAAADgd0AAAAAAAAAAAAAAAAAAdI1AAAAAAAAAAAAAAAAAAECPQAAAAAAAoGlAAAAAAABQbkAAAAAAAECPQAAAAAAAAAAAAAAAAACgdkAAAAAAAAAAAAAAAAAAAAAAAAAAAAAAAAAAAAAAAECPQAAAAAAAAAAAAAAAAABAakAAAAAAAECPQAAAAAAA6HtAAAAAAAAAa0AAAAAAAECPQAAAAAAAAAAAAAAAAAAAZUA=",
          "dtype": "f8"
         },
         "xaxis": "x",
         "y": {
          "bdata": "mpmZmZmZMUAAAAAAALxyQAAAAAAAMJFAAAAAAAAAAAABAAAAAN6JQAAAAAAAkHJAAAAAAAAwkUABAAAAAPBuQDQzMzMzk3lAAAAAAAAAAAABAAAAABSOQAAAAAAAAAAAAAAAAADukEA0MzMzMzt5QAAAAAAAAAAAAAAAAAAAAAAAAAAAAAAAAGdmZmZmtnlAAAAAAAAAAADOzMzMzNR/QJqZmZmZOUBAAAAAAAAwkUAAAAAAAAAAAAAAAAAAMJFAAAAAAAAAAAA0MzMzM1NhQM3MzMzM6HFAAAAAAAAAAAABAAAAAPBuQJqZmZmZAWRANDMzMzNDekAAAAAAAAAAAAAAAAAAM5BAAAAAAAAAAAAAAAAAADCRQAEAAAAAMGxAAAAAAACscEAAAAAAADCRQAAAAAAAAAAANDMzMzPjeEAAAAAAAAAAAAAAAAAAAAAAAAAAAAAAAAAAAAAAADCRQAAAAAAAAAAAAQAAAADgbEAAAAAAADCRQGdmZmZmsn5ANDMzMzOzbUAAAAAAADCRQAAAAAAAAAAAmpmZmZkZZ0A=",
          "dtype": "f8"
         },
         "yaxis": "y"
        }
       ],
       "layout": {
        "legend": {
         "itemsizing": "constant",
         "title": {
          "text": "product_code"
         },
         "tracegroupgap": 0
        },
        "template": {
         "data": {
          "bar": [
           {
            "error_x": {
             "color": "#2a3f5f"
            },
            "error_y": {
             "color": "#2a3f5f"
            },
            "marker": {
             "line": {
              "color": "#E5ECF6",
              "width": 0.5
             },
             "pattern": {
              "fillmode": "overlay",
              "size": 10,
              "solidity": 0.2
             }
            },
            "type": "bar"
           }
          ],
          "barpolar": [
           {
            "marker": {
             "line": {
              "color": "#E5ECF6",
              "width": 0.5
             },
             "pattern": {
              "fillmode": "overlay",
              "size": 10,
              "solidity": 0.2
             }
            },
            "type": "barpolar"
           }
          ],
          "carpet": [
           {
            "aaxis": {
             "endlinecolor": "#2a3f5f",
             "gridcolor": "white",
             "linecolor": "white",
             "minorgridcolor": "white",
             "startlinecolor": "#2a3f5f"
            },
            "baxis": {
             "endlinecolor": "#2a3f5f",
             "gridcolor": "white",
             "linecolor": "white",
             "minorgridcolor": "white",
             "startlinecolor": "#2a3f5f"
            },
            "type": "carpet"
           }
          ],
          "choropleth": [
           {
            "colorbar": {
             "outlinewidth": 0,
             "ticks": ""
            },
            "type": "choropleth"
           }
          ],
          "contour": [
           {
            "colorbar": {
             "outlinewidth": 0,
             "ticks": ""
            },
            "colorscale": [
             [
              0,
              "#0d0887"
             ],
             [
              0.1111111111111111,
              "#46039f"
             ],
             [
              0.2222222222222222,
              "#7201a8"
             ],
             [
              0.3333333333333333,
              "#9c179e"
             ],
             [
              0.4444444444444444,
              "#bd3786"
             ],
             [
              0.5555555555555556,
              "#d8576b"
             ],
             [
              0.6666666666666666,
              "#ed7953"
             ],
             [
              0.7777777777777778,
              "#fb9f3a"
             ],
             [
              0.8888888888888888,
              "#fdca26"
             ],
             [
              1,
              "#f0f921"
             ]
            ],
            "type": "contour"
           }
          ],
          "contourcarpet": [
           {
            "colorbar": {
             "outlinewidth": 0,
             "ticks": ""
            },
            "type": "contourcarpet"
           }
          ],
          "heatmap": [
           {
            "colorbar": {
             "outlinewidth": 0,
             "ticks": ""
            },
            "colorscale": [
             [
              0,
              "#0d0887"
             ],
             [
              0.1111111111111111,
              "#46039f"
             ],
             [
              0.2222222222222222,
              "#7201a8"
             ],
             [
              0.3333333333333333,
              "#9c179e"
             ],
             [
              0.4444444444444444,
              "#bd3786"
             ],
             [
              0.5555555555555556,
              "#d8576b"
             ],
             [
              0.6666666666666666,
              "#ed7953"
             ],
             [
              0.7777777777777778,
              "#fb9f3a"
             ],
             [
              0.8888888888888888,
              "#fdca26"
             ],
             [
              1,
              "#f0f921"
             ]
            ],
            "type": "heatmap"
           }
          ],
          "histogram": [
           {
            "marker": {
             "pattern": {
              "fillmode": "overlay",
              "size": 10,
              "solidity": 0.2
             }
            },
            "type": "histogram"
           }
          ],
          "histogram2d": [
           {
            "colorbar": {
             "outlinewidth": 0,
             "ticks": ""
            },
            "colorscale": [
             [
              0,
              "#0d0887"
             ],
             [
              0.1111111111111111,
              "#46039f"
             ],
             [
              0.2222222222222222,
              "#7201a8"
             ],
             [
              0.3333333333333333,
              "#9c179e"
             ],
             [
              0.4444444444444444,
              "#bd3786"
             ],
             [
              0.5555555555555556,
              "#d8576b"
             ],
             [
              0.6666666666666666,
              "#ed7953"
             ],
             [
              0.7777777777777778,
              "#fb9f3a"
             ],
             [
              0.8888888888888888,
              "#fdca26"
             ],
             [
              1,
              "#f0f921"
             ]
            ],
            "type": "histogram2d"
           }
          ],
          "histogram2dcontour": [
           {
            "colorbar": {
             "outlinewidth": 0,
             "ticks": ""
            },
            "colorscale": [
             [
              0,
              "#0d0887"
             ],
             [
              0.1111111111111111,
              "#46039f"
             ],
             [
              0.2222222222222222,
              "#7201a8"
             ],
             [
              0.3333333333333333,
              "#9c179e"
             ],
             [
              0.4444444444444444,
              "#bd3786"
             ],
             [
              0.5555555555555556,
              "#d8576b"
             ],
             [
              0.6666666666666666,
              "#ed7953"
             ],
             [
              0.7777777777777778,
              "#fb9f3a"
             ],
             [
              0.8888888888888888,
              "#fdca26"
             ],
             [
              1,
              "#f0f921"
             ]
            ],
            "type": "histogram2dcontour"
           }
          ],
          "mesh3d": [
           {
            "colorbar": {
             "outlinewidth": 0,
             "ticks": ""
            },
            "type": "mesh3d"
           }
          ],
          "parcoords": [
           {
            "line": {
             "colorbar": {
              "outlinewidth": 0,
              "ticks": ""
             }
            },
            "type": "parcoords"
           }
          ],
          "pie": [
           {
            "automargin": true,
            "type": "pie"
           }
          ],
          "scatter": [
           {
            "fillpattern": {
             "fillmode": "overlay",
             "size": 10,
             "solidity": 0.2
            },
            "type": "scatter"
           }
          ],
          "scatter3d": [
           {
            "line": {
             "colorbar": {
              "outlinewidth": 0,
              "ticks": ""
             }
            },
            "marker": {
             "colorbar": {
              "outlinewidth": 0,
              "ticks": ""
             }
            },
            "type": "scatter3d"
           }
          ],
          "scattercarpet": [
           {
            "marker": {
             "colorbar": {
              "outlinewidth": 0,
              "ticks": ""
             }
            },
            "type": "scattercarpet"
           }
          ],
          "scattergeo": [
           {
            "marker": {
             "colorbar": {
              "outlinewidth": 0,
              "ticks": ""
             }
            },
            "type": "scattergeo"
           }
          ],
          "scattergl": [
           {
            "marker": {
             "colorbar": {
              "outlinewidth": 0,
              "ticks": ""
             }
            },
            "type": "scattergl"
           }
          ],
          "scattermap": [
           {
            "marker": {
             "colorbar": {
              "outlinewidth": 0,
              "ticks": ""
             }
            },
            "type": "scattermap"
           }
          ],
          "scattermapbox": [
           {
            "marker": {
             "colorbar": {
              "outlinewidth": 0,
              "ticks": ""
             }
            },
            "type": "scattermapbox"
           }
          ],
          "scatterpolar": [
           {
            "marker": {
             "colorbar": {
              "outlinewidth": 0,
              "ticks": ""
             }
            },
            "type": "scatterpolar"
           }
          ],
          "scatterpolargl": [
           {
            "marker": {
             "colorbar": {
              "outlinewidth": 0,
              "ticks": ""
             }
            },
            "type": "scatterpolargl"
           }
          ],
          "scatterternary": [
           {
            "marker": {
             "colorbar": {
              "outlinewidth": 0,
              "ticks": ""
             }
            },
            "type": "scatterternary"
           }
          ],
          "surface": [
           {
            "colorbar": {
             "outlinewidth": 0,
             "ticks": ""
            },
            "colorscale": [
             [
              0,
              "#0d0887"
             ],
             [
              0.1111111111111111,
              "#46039f"
             ],
             [
              0.2222222222222222,
              "#7201a8"
             ],
             [
              0.3333333333333333,
              "#9c179e"
             ],
             [
              0.4444444444444444,
              "#bd3786"
             ],
             [
              0.5555555555555556,
              "#d8576b"
             ],
             [
              0.6666666666666666,
              "#ed7953"
             ],
             [
              0.7777777777777778,
              "#fb9f3a"
             ],
             [
              0.8888888888888888,
              "#fdca26"
             ],
             [
              1,
              "#f0f921"
             ]
            ],
            "type": "surface"
           }
          ],
          "table": [
           {
            "cells": {
             "fill": {
              "color": "#EBF0F8"
             },
             "line": {
              "color": "white"
             }
            },
            "header": {
             "fill": {
              "color": "#C8D4E3"
             },
             "line": {
              "color": "white"
             }
            },
            "type": "table"
           }
          ]
         },
         "layout": {
          "annotationdefaults": {
           "arrowcolor": "#2a3f5f",
           "arrowhead": 0,
           "arrowwidth": 1
          },
          "autotypenumbers": "strict",
          "coloraxis": {
           "colorbar": {
            "outlinewidth": 0,
            "ticks": ""
           }
          },
          "colorscale": {
           "diverging": [
            [
             0,
             "#8e0152"
            ],
            [
             0.1,
             "#c51b7d"
            ],
            [
             0.2,
             "#de77ae"
            ],
            [
             0.3,
             "#f1b6da"
            ],
            [
             0.4,
             "#fde0ef"
            ],
            [
             0.5,
             "#f7f7f7"
            ],
            [
             0.6,
             "#e6f5d0"
            ],
            [
             0.7,
             "#b8e186"
            ],
            [
             0.8,
             "#7fbc41"
            ],
            [
             0.9,
             "#4d9221"
            ],
            [
             1,
             "#276419"
            ]
           ],
           "sequential": [
            [
             0,
             "#0d0887"
            ],
            [
             0.1111111111111111,
             "#46039f"
            ],
            [
             0.2222222222222222,
             "#7201a8"
            ],
            [
             0.3333333333333333,
             "#9c179e"
            ],
            [
             0.4444444444444444,
             "#bd3786"
            ],
            [
             0.5555555555555556,
             "#d8576b"
            ],
            [
             0.6666666666666666,
             "#ed7953"
            ],
            [
             0.7777777777777778,
             "#fb9f3a"
            ],
            [
             0.8888888888888888,
             "#fdca26"
            ],
            [
             1,
             "#f0f921"
            ]
           ],
           "sequentialminus": [
            [
             0,
             "#0d0887"
            ],
            [
             0.1111111111111111,
             "#46039f"
            ],
            [
             0.2222222222222222,
             "#7201a8"
            ],
            [
             0.3333333333333333,
             "#9c179e"
            ],
            [
             0.4444444444444444,
             "#bd3786"
            ],
            [
             0.5555555555555556,
             "#d8576b"
            ],
            [
             0.6666666666666666,
             "#ed7953"
            ],
            [
             0.7777777777777778,
             "#fb9f3a"
            ],
            [
             0.8888888888888888,
             "#fdca26"
            ],
            [
             1,
             "#f0f921"
            ]
           ]
          },
          "colorway": [
           "#636efa",
           "#EF553B",
           "#00cc96",
           "#ab63fa",
           "#FFA15A",
           "#19d3f3",
           "#FF6692",
           "#B6E880",
           "#FF97FF",
           "#FECB52"
          ],
          "font": {
           "color": "#2a3f5f"
          },
          "geo": {
           "bgcolor": "white",
           "lakecolor": "white",
           "landcolor": "#E5ECF6",
           "showlakes": true,
           "showland": true,
           "subunitcolor": "white"
          },
          "hoverlabel": {
           "align": "left"
          },
          "hovermode": "closest",
          "mapbox": {
           "style": "light"
          },
          "paper_bgcolor": "white",
          "plot_bgcolor": "#E5ECF6",
          "polar": {
           "angularaxis": {
            "gridcolor": "white",
            "linecolor": "white",
            "ticks": ""
           },
           "bgcolor": "#E5ECF6",
           "radialaxis": {
            "gridcolor": "white",
            "linecolor": "white",
            "ticks": ""
           }
          },
          "scene": {
           "xaxis": {
            "backgroundcolor": "#E5ECF6",
            "gridcolor": "white",
            "gridwidth": 2,
            "linecolor": "white",
            "showbackground": true,
            "ticks": "",
            "zerolinecolor": "white"
           },
           "yaxis": {
            "backgroundcolor": "#E5ECF6",
            "gridcolor": "white",
            "gridwidth": 2,
            "linecolor": "white",
            "showbackground": true,
            "ticks": "",
            "zerolinecolor": "white"
           },
           "zaxis": {
            "backgroundcolor": "#E5ECF6",
            "gridcolor": "white",
            "gridwidth": 2,
            "linecolor": "white",
            "showbackground": true,
            "ticks": "",
            "zerolinecolor": "white"
           }
          },
          "shapedefaults": {
           "line": {
            "color": "#2a3f5f"
           }
          },
          "ternary": {
           "aaxis": {
            "gridcolor": "white",
            "linecolor": "white",
            "ticks": ""
           },
           "baxis": {
            "gridcolor": "white",
            "linecolor": "white",
            "ticks": ""
           },
           "bgcolor": "#E5ECF6",
           "caxis": {
            "gridcolor": "white",
            "linecolor": "white",
            "ticks": ""
           }
          },
          "title": {
           "x": 0.05
          },
          "xaxis": {
           "automargin": true,
           "gridcolor": "white",
           "linecolor": "white",
           "ticks": "",
           "title": {
            "standoff": 15
           },
           "zerolinecolor": "white",
           "zerolinewidth": 2
          },
          "yaxis": {
           "automargin": true,
           "gridcolor": "white",
           "linecolor": "white",
           "ticks": "",
           "title": {
            "standoff": 15
           },
           "zerolinecolor": "white",
           "zerolinewidth": 2
          }
         }
        },
        "title": {
         "text": "Optimized Stock vs Safety Stock (Bubble = Stockout Units)"
        },
        "xaxis": {
         "anchor": "y",
         "domain": [
          0,
          1
         ],
         "title": {
          "text": "Optimized Stock"
         }
        },
        "yaxis": {
         "anchor": "x",
         "domain": [
          0,
          1
         ],
         "title": {
          "text": "Safety Stock"
         }
        }
       }
      }
     },
     "metadata": {},
     "output_type": "display_data"
    }
   ],
   "source": [
    "# Example: build final optimization results for bubble chart\n",
    "# (Assume df_optimized_final is built from previous optimization steps)\n",
    "if 'df_optimized_multi' in globals():\n",
    "    df_optimized_final = df_optimized_multi.rename(columns={'material':'product_code'})\n",
    "    df_optimized_final['adjusted_safety_stock'] = df_optimized_final['optimized_stock'] * 1.1  # demo adjustment\n",
    "    df_optimized_final['stockout_units'] = np.random.randint(0, 50, len(df_optimized_final))    # demo bubble size\n",
    "\n",
    "    fig = px.scatter(\n",
    "        df_optimized_final,\n",
    "        x=\"optimized_stock\",\n",
    "        y=\"adjusted_safety_stock\",\n",
    "        size=\"stockout_units\",\n",
    "        color=\"product_code\",\n",
    "        hover_data=[\"date\"],\n",
    "        title=\"Optimized Stock vs Safety Stock (Bubble = Stockout Units)\"\n",
    "    )\n",
    "    fig.update_layout(xaxis_title=\"Optimized Stock\", yaxis_title=\"Safety Stock\")\n",
    "    fig.show()"
   ]
  },
  {
   "cell_type": "markdown",
   "id": "d9a44a16",
   "metadata": {},
   "source": [
    "## 13. Top High-Risk Biologics Table\n",
    "\n",
    "Display a table of the top 5 biologics with highest FDA shortage risk."
   ]
  },
  {
   "cell_type": "code",
   "execution_count": 17,
   "id": "dc8d88b8",
   "metadata": {},
   "outputs": [
    {
     "name": "stdout",
     "output_type": "stream",
     "text": [
      "Top 5 High-Risk Biologics (FDA Shortage):\n"
     ]
    },
    {
     "data": {
      "text/plain": [
       "product_code\n",
       "DrugA    15\n",
       "DrugC     5\n",
       "DrugB     0\n",
       "Name: shortage_count, dtype: int64"
      ]
     },
     "metadata": {},
     "output_type": "display_data"
    }
   ],
   "source": [
    "# Top 5 high-risk biologics (based on FDA shortage)\n",
    "top_risk = sales_long.groupby('product_code')['shortage_count'].sum().sort_values(ascending=False).head(5)\n",
    "print(\"Top 5 High-Risk Biologics (FDA Shortage):\")\n",
    "display(top_risk)"
   ]
  }
 ],
 "metadata": {
  "kernelspec": {
   "display_name": ".venv",
   "language": "python",
   "name": "python3"
  },
  "language_info": {
   "codemirror_mode": {
    "name": "ipython",
    "version": 3
   },
   "file_extension": ".py",
   "mimetype": "text/x-python",
   "name": "python",
   "nbconvert_exporter": "python",
   "pygments_lexer": "ipython3",
   "version": "3.11.9"
  }
 },
 "nbformat": 4,
 "nbformat_minor": 5
}
